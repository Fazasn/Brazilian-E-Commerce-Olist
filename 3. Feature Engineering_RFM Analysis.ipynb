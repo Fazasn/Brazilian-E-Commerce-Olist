{
 "cells": [
  {
   "attachments": {},
   "cell_type": "markdown",
   "id": "6c97746c",
   "metadata": {
    "id": "6c97746c"
   },
   "source": [
    "# Feature Engineering\n",
    "\n",
    "Feature engineering adalah proses dimana kita membuat fitur baru dari data yang telah kita miliki atau transformasi dari fitur yang telah ada, sehingga fitur tersebut lebih dapat merepresentasikan informasi yang berguna dalam mempelajari suatu masalah atau membuat prediksi.\n",
    "\n",
    "Tujuan dari feature engineering adalah untuk meningkatkan kinerja model atau meningkatkan pemahaman kita terhadap data. Dalam beberapa kasus, data mentah yang telah kita kumpulkan tidak selalu cukup untuk membangun model yang akurat atau memberikan wawasan yang berguna. Oleh karena itu, dengan melakukan feature engineering, kita dapat menghasilkan fitur yang lebih informatif dan dapat meningkatkan kualitas model atau wawasan yang kita hasilkan."
   ]
  },
  {
   "cell_type": "code",
   "execution_count": 1,
   "id": "f37f2506",
   "metadata": {},
   "outputs": [],
   "source": [
    "# from google.colab import drive\n",
    "# drive.mount('/content/drive')"
   ]
  },
  {
   "cell_type": "code",
   "execution_count": 2,
   "id": "0117595b",
   "metadata": {
    "ExecuteTime": {
     "end_time": "2023-05-12T13:27:25.453892Z",
     "start_time": "2023-05-12T13:27:22.883880Z"
    },
    "executionInfo": {
     "elapsed": 3996,
     "status": "ok",
     "timestamp": 1683876953608,
     "user": {
      "displayName": "Muhammad Rafi",
      "userId": "02077341653276340637"
     },
     "user_tz": -420
    },
    "id": "0117595b"
   },
   "outputs": [],
   "source": [
    "# Import Libraries yang diperlukan\n",
    "\n",
    "import pandas as pd\n",
    "import numpy as np\n",
    "import json\n",
    "\n",
    "import scipy.stats as stats\n",
    "import statistics\n",
    "\n",
    "import plotly.graph_objs as go\n",
    "import plotly.express as px\n",
    "import matplotlib.pyplot as plt\n",
    "import seaborn as sns\n",
    "\n",
    "import warnings\n",
    "warnings.filterwarnings('ignore')"
   ]
  },
  {
   "cell_type": "code",
   "execution_count": 3,
   "id": "5738d27b",
   "metadata": {
    "ExecuteTime": {
     "end_time": "2023-05-12T13:27:26.256980Z",
     "start_time": "2023-05-12T13:27:25.457433Z"
    },
    "colab": {
     "base_uri": "https://localhost:8080/",
     "height": 300
    },
    "executionInfo": {
     "elapsed": 4628,
     "status": "ok",
     "timestamp": 1683876958229,
     "user": {
      "displayName": "Muhammad Rafi",
      "userId": "02077341653276340637"
     },
     "user_tz": -420
    },
    "id": "5738d27b",
    "outputId": "0439fdc3-bacc-41eb-8843-a1435ee542dd"
   },
   "outputs": [
    {
     "data": {
      "text/html": [
       "<div>\n",
       "<style scoped>\n",
       "    .dataframe tbody tr th:only-of-type {\n",
       "        vertical-align: middle;\n",
       "    }\n",
       "\n",
       "    .dataframe tbody tr th {\n",
       "        vertical-align: top;\n",
       "    }\n",
       "\n",
       "    .dataframe thead th {\n",
       "        text-align: right;\n",
       "    }\n",
       "</style>\n",
       "<table border=\"1\" class=\"dataframe\">\n",
       "  <thead>\n",
       "    <tr style=\"text-align: right;\">\n",
       "      <th></th>\n",
       "      <th>customer_id</th>\n",
       "      <th>customer_unique_id</th>\n",
       "      <th>customer_zip_code_prefix</th>\n",
       "      <th>customer_city</th>\n",
       "      <th>customer_state</th>\n",
       "      <th>order_id</th>\n",
       "      <th>order_status</th>\n",
       "      <th>order_purchase_timestamp</th>\n",
       "      <th>order_approved_at</th>\n",
       "      <th>order_delivered_carrier_date</th>\n",
       "      <th>...</th>\n",
       "      <th>payment_installments</th>\n",
       "      <th>payment_value</th>\n",
       "      <th>seller_zip_code_prefix</th>\n",
       "      <th>seller_city</th>\n",
       "      <th>seller_state</th>\n",
       "      <th>subcategory</th>\n",
       "      <th>Category</th>\n",
       "      <th>delivery_time_days</th>\n",
       "      <th>order_day</th>\n",
       "      <th>order_day_num</th>\n",
       "    </tr>\n",
       "  </thead>\n",
       "  <tbody>\n",
       "    <tr>\n",
       "      <th>0</th>\n",
       "      <td>06b8999e2fba1a1fbc88172c00ba8bc7</td>\n",
       "      <td>861eff4711a542e4b93843c6dd7febb0</td>\n",
       "      <td>14409</td>\n",
       "      <td>franca</td>\n",
       "      <td>SP</td>\n",
       "      <td>00e7ee1b050b8499577073aeb2a297a1</td>\n",
       "      <td>delivered</td>\n",
       "      <td>2017-05-16 15:05:35</td>\n",
       "      <td>2017-05-16</td>\n",
       "      <td>2017-05-23 10:47:57</td>\n",
       "      <td>...</td>\n",
       "      <td>2</td>\n",
       "      <td>146.87</td>\n",
       "      <td>8577</td>\n",
       "      <td>itaquaquecetuba</td>\n",
       "      <td>SP</td>\n",
       "      <td>office_furniture</td>\n",
       "      <td>Furniture</td>\n",
       "      <td>9</td>\n",
       "      <td>Tuesday</td>\n",
       "      <td>1</td>\n",
       "    </tr>\n",
       "    <tr>\n",
       "      <th>1</th>\n",
       "      <td>fbd40c083aa8cddebb5265b2ba6aaf2e</td>\n",
       "      <td>f40ab89b622248b7ca125af4b486b887</td>\n",
       "      <td>32341</td>\n",
       "      <td>contagem</td>\n",
       "      <td>MG</td>\n",
       "      <td>e0b26f14d2bcc710bb02f77a4628763b</td>\n",
       "      <td>delivered</td>\n",
       "      <td>2017-05-16 10:00:49</td>\n",
       "      <td>2017-05-17</td>\n",
       "      <td>2017-05-23 10:35:48</td>\n",
       "      <td>...</td>\n",
       "      <td>1</td>\n",
       "      <td>155.70</td>\n",
       "      <td>8577</td>\n",
       "      <td>itaquaquecetuba</td>\n",
       "      <td>SP</td>\n",
       "      <td>office_furniture</td>\n",
       "      <td>Furniture</td>\n",
       "      <td>12</td>\n",
       "      <td>Tuesday</td>\n",
       "      <td>1</td>\n",
       "    </tr>\n",
       "    <tr>\n",
       "      <th>2</th>\n",
       "      <td>1c37c0f0cd1d88d46d9fc9494762abbd</td>\n",
       "      <td>432ecfa8b7b7ad2663c7abed0dc83c51</td>\n",
       "      <td>31270</td>\n",
       "      <td>belo horizonte</td>\n",
       "      <td>MG</td>\n",
       "      <td>c4e2bd2043fbd75b325a47adfabf0d77</td>\n",
       "      <td>delivered</td>\n",
       "      <td>2018-03-15 07:45:10</td>\n",
       "      <td>2018-03-15</td>\n",
       "      <td>2018-03-27 15:58:41</td>\n",
       "      <td>...</td>\n",
       "      <td>3</td>\n",
       "      <td>150.07</td>\n",
       "      <td>8577</td>\n",
       "      <td>itaquaquecetuba</td>\n",
       "      <td>SP</td>\n",
       "      <td>office_furniture</td>\n",
       "      <td>Furniture</td>\n",
       "      <td>21</td>\n",
       "      <td>Thursday</td>\n",
       "      <td>3</td>\n",
       "    </tr>\n",
       "    <tr>\n",
       "      <th>3</th>\n",
       "      <td>c49bec5f74f0413130abdaed8e7621d0</td>\n",
       "      <td>67d6f91d256bdf128fc960a166f413d5</td>\n",
       "      <td>25640</td>\n",
       "      <td>petropolis</td>\n",
       "      <td>RJ</td>\n",
       "      <td>0d831c5aa932379c1cf5b0b1b40b214b</td>\n",
       "      <td>delivered</td>\n",
       "      <td>2017-10-13 10:36:54</td>\n",
       "      <td>2017-10-13</td>\n",
       "      <td>2017-10-24 18:58:49</td>\n",
       "      <td>...</td>\n",
       "      <td>1</td>\n",
       "      <td>151.17</td>\n",
       "      <td>8577</td>\n",
       "      <td>itaquaquecetuba</td>\n",
       "      <td>SP</td>\n",
       "      <td>office_furniture</td>\n",
       "      <td>Furniture</td>\n",
       "      <td>19</td>\n",
       "      <td>Friday</td>\n",
       "      <td>4</td>\n",
       "    </tr>\n",
       "    <tr>\n",
       "      <th>4</th>\n",
       "      <td>f91eb13e253823f25cf9a20fc2d08f56</td>\n",
       "      <td>1c91f8d50340522dd6601237ad13afff</td>\n",
       "      <td>78500</td>\n",
       "      <td>colider</td>\n",
       "      <td>MT</td>\n",
       "      <td>be2463c66944514bb175f7a519a72cd7</td>\n",
       "      <td>delivered</td>\n",
       "      <td>2018-02-07 19:01:48</td>\n",
       "      <td>2018-02-07</td>\n",
       "      <td>2018-02-20 13:59:00</td>\n",
       "      <td>...</td>\n",
       "      <td>1</td>\n",
       "      <td>160.18</td>\n",
       "      <td>8577</td>\n",
       "      <td>itaquaquecetuba</td>\n",
       "      <td>SP</td>\n",
       "      <td>office_furniture</td>\n",
       "      <td>Furniture</td>\n",
       "      <td>23</td>\n",
       "      <td>Wednesday</td>\n",
       "      <td>2</td>\n",
       "    </tr>\n",
       "  </tbody>\n",
       "</table>\n",
       "<p>5 rows × 41 columns</p>\n",
       "</div>"
      ],
      "text/plain": [
       "                        customer_id                customer_unique_id  \\\n",
       "0  06b8999e2fba1a1fbc88172c00ba8bc7  861eff4711a542e4b93843c6dd7febb0   \n",
       "1  fbd40c083aa8cddebb5265b2ba6aaf2e  f40ab89b622248b7ca125af4b486b887   \n",
       "2  1c37c0f0cd1d88d46d9fc9494762abbd  432ecfa8b7b7ad2663c7abed0dc83c51   \n",
       "3  c49bec5f74f0413130abdaed8e7621d0  67d6f91d256bdf128fc960a166f413d5   \n",
       "4  f91eb13e253823f25cf9a20fc2d08f56  1c91f8d50340522dd6601237ad13afff   \n",
       "\n",
       "   customer_zip_code_prefix   customer_city customer_state  \\\n",
       "0                     14409          franca             SP   \n",
       "1                     32341        contagem             MG   \n",
       "2                     31270  belo horizonte             MG   \n",
       "3                     25640      petropolis             RJ   \n",
       "4                     78500         colider             MT   \n",
       "\n",
       "                           order_id order_status order_purchase_timestamp  \\\n",
       "0  00e7ee1b050b8499577073aeb2a297a1    delivered      2017-05-16 15:05:35   \n",
       "1  e0b26f14d2bcc710bb02f77a4628763b    delivered      2017-05-16 10:00:49   \n",
       "2  c4e2bd2043fbd75b325a47adfabf0d77    delivered      2018-03-15 07:45:10   \n",
       "3  0d831c5aa932379c1cf5b0b1b40b214b    delivered      2017-10-13 10:36:54   \n",
       "4  be2463c66944514bb175f7a519a72cd7    delivered      2018-02-07 19:01:48   \n",
       "\n",
       "  order_approved_at order_delivered_carrier_date  ... payment_installments  \\\n",
       "0        2017-05-16          2017-05-23 10:47:57  ...                    2   \n",
       "1        2017-05-17          2017-05-23 10:35:48  ...                    1   \n",
       "2        2018-03-15          2018-03-27 15:58:41  ...                    3   \n",
       "3        2017-10-13          2017-10-24 18:58:49  ...                    1   \n",
       "4        2018-02-07          2018-02-20 13:59:00  ...                    1   \n",
       "\n",
       "  payment_value seller_zip_code_prefix      seller_city seller_state  \\\n",
       "0        146.87                   8577  itaquaquecetuba           SP   \n",
       "1        155.70                   8577  itaquaquecetuba           SP   \n",
       "2        150.07                   8577  itaquaquecetuba           SP   \n",
       "3        151.17                   8577  itaquaquecetuba           SP   \n",
       "4        160.18                   8577  itaquaquecetuba           SP   \n",
       "\n",
       "        subcategory   Category delivery_time_days  order_day order_day_num  \n",
       "0  office_furniture  Furniture                  9    Tuesday             1  \n",
       "1  office_furniture  Furniture                 12    Tuesday             1  \n",
       "2  office_furniture  Furniture                 21   Thursday             3  \n",
       "3  office_furniture  Furniture                 19     Friday             4  \n",
       "4  office_furniture  Furniture                 23  Wednesday             2  \n",
       "\n",
       "[5 rows x 41 columns]"
      ]
     },
     "execution_count": 3,
     "metadata": {},
     "output_type": "execute_result"
    }
   ],
   "source": [
    "# eda = '/content/drive/MyDrive/Final Project Experiment/2. EDA.csv'\n",
    "df = pd.read_csv('2. EDA.csv')\n",
    "# df = pd.read_csv(eda)\n",
    "df.head()"
   ]
  },
  {
   "cell_type": "code",
   "execution_count": 4,
   "id": "90ab9164",
   "metadata": {
    "ExecuteTime": {
     "end_time": "2023-05-12T13:27:26.272937Z",
     "start_time": "2023-05-12T13:27:26.259972Z"
    },
    "colab": {
     "base_uri": "https://localhost:8080/"
    },
    "executionInfo": {
     "elapsed": 56,
     "status": "ok",
     "timestamp": 1683876958240,
     "user": {
      "displayName": "Muhammad Rafi",
      "userId": "02077341653276340637"
     },
     "user_tz": -420
    },
    "id": "90ab9164",
    "outputId": "93553030-b050-4c69-9a11-00b8be75cbfa"
   },
   "outputs": [
    {
     "data": {
      "text/plain": [
       "60698"
      ]
     },
     "execution_count": 4,
     "metadata": {},
     "output_type": "execute_result"
    }
   ],
   "source": [
    "len(df)"
   ]
  },
  {
   "cell_type": "code",
   "execution_count": 5,
   "id": "30b623f3",
   "metadata": {
    "ExecuteTime": {
     "end_time": "2023-05-12T13:27:26.414464Z",
     "start_time": "2023-05-12T13:27:26.276929Z"
    },
    "colab": {
     "base_uri": "https://localhost:8080/"
    },
    "executionInfo": {
     "elapsed": 55,
     "status": "ok",
     "timestamp": 1683876958244,
     "user": {
      "displayName": "Muhammad Rafi",
      "userId": "02077341653276340637"
     },
     "user_tz": -420
    },
    "id": "30b623f3",
    "outputId": "e3ba626e-8bd2-49c9-9a44-01efe77c8b4d"
   },
   "outputs": [
    {
     "data": {
      "text/plain": [
       "Index(['customer_id', 'customer_unique_id', 'customer_zip_code_prefix',\n",
       "       'customer_city', 'customer_state', 'order_id', 'order_status',\n",
       "       'order_purchase_timestamp', 'order_approved_at',\n",
       "       'order_delivered_carrier_date', 'order_delivered_customer_date',\n",
       "       'order_estimated_delivery_date', 'review_id', 'review_score',\n",
       "       'review_creation_date', 'review_answer_timestamp', 'order_item_id',\n",
       "       'product_id', 'seller_id', 'shipping_limit_date', 'price',\n",
       "       'freight_value', 'product_name_lenght', 'product_description_lenght',\n",
       "       'product_photos_qty', 'product_weight_g', 'product_length_cm',\n",
       "       'product_height_cm', 'product_width_cm', 'payment_sequential',\n",
       "       'payment_type', 'payment_installments', 'payment_value',\n",
       "       'seller_zip_code_prefix', 'seller_city', 'seller_state', 'subcategory',\n",
       "       'Category', 'delivery_time_days', 'order_day', 'order_day_num'],\n",
       "      dtype='object')"
      ]
     },
     "execution_count": 5,
     "metadata": {},
     "output_type": "execute_result"
    }
   ],
   "source": [
    "df.columns"
   ]
  },
  {
   "attachments": {},
   "cell_type": "markdown",
   "id": "be03f79d",
   "metadata": {
    "id": "be03f79d"
   },
   "source": [
    "## Feature Selection"
   ]
  },
  {
   "cell_type": "code",
   "execution_count": 6,
   "id": "ec984ba7",
   "metadata": {
    "ExecuteTime": {
     "end_time": "2023-05-12T13:27:26.509230Z",
     "start_time": "2023-05-12T13:27:26.418419Z"
    },
    "executionInfo": {
     "elapsed": 52,
     "status": "ok",
     "timestamp": 1683876958246,
     "user": {
      "displayName": "Muhammad Rafi",
      "userId": "02077341653276340637"
     },
     "user_tz": -420
    },
    "id": "ec984ba7"
   },
   "outputs": [],
   "source": [
    "df = df[['customer_unique_id', 'customer_city', 'customer_state', 'order_approved_at', 'order_id', 'delivery_time_days', 'seller_id', 'seller_state', 'Category', \n",
    "        'subcategory', 'payment_type', 'payment_installments','price', 'freight_value', 'payment_value', 'order_day', 'review_score']]"
   ]
  },
  {
   "attachments": {},
   "cell_type": "markdown",
   "id": "dd61ff39",
   "metadata": {
    "id": "dd61ff39"
   },
   "source": [
    "Dari sekian banyak fitur pada dataset, dipilih beberapa fitur yang dianggap penting dan relevan untuk menganalisis performa penjualan dari perspektif customer dan merchant. Berikut adalah penjelasan mengapa fitur-fitur tersebut dipilih:\n",
    "\n",
    "- `customer_unique_id`: fitur ini dipilih karena memungkinkan kita untuk mengidentifikasi pelanggan yang melakukan transaksi. Dengan mengetahui pelanggan yang berbeda, kita dapat menganalisis perilaku pelanggan dan memperkirakan loyalitas pelanggan terhadap toko online tersebut.\n",
    "\n",
    "- `customer_city` dan `customer_state`: fitur ini dipilih karena memungkinkan kita untuk mengidentifikasi lokasi pelanggan yang melakukan transaksi. Dengan mengetahui lokasi pelanggan, kita dapat menganalisis tren pembelian di daerah tertentu dan mengoptimalkan strategi pemasaran untuk daerah-daerah tersebut.\n",
    "\n",
    "- `order_approved_at` dan `order_id`: fitur ini dipilih karena memungkinkan kita untuk melacak waktu transaksi dan mengidentifikasi setiap transaksi secara unik. Dengan informasi ini, kita dapat menganalisis pola waktu transaksi dan mengidentifikasi kecepatan persetujuan pesanan oleh pihak penjual.\n",
    "\n",
    "- `delivery_time_days`: fitur ini dipilih karena memungkinkan kita untuk menghitung waktu pengiriman produk ke pelanggan. Dengan informasi ini, kita dapat menganalisis kinerja pengiriman oleh perusahaan kurir dan mengidentifikasi permasalahan pengiriman yang perlu diperbaiki.\n",
    "\n",
    "- `seller_id` dan `seller_state`: fitur ini dipilih karena memungkinkan kita untuk mengidentifikasi penjual dan lokasi penjual. Dengan informasi ini, kita dapat menganalisis performa penjualan dari perspektif penjual dan mengidentifikasi penjual yang mungkin perlu ditingkatkan kinerjanya.\n",
    "\n",
    "- `Category` dan `subcategory`: fitur ini dipilih karena memungkinkan kita untuk mengidentifikasi kategori dan subkategori produk yang terjual. Dengan informasi ini, kita dapat menganalisis tren pembelian di kategori dan subkategori tertentu, dan mengidentifikasi produk yang paling diminati oleh pelanggan.\n",
    "\n",
    "- `payment_type` dan `payment_installments`: fitur ini dipilih karena memungkinkan kita untuk menganalisis metode pembayaran yang paling populer dan rata-rata cicilan pembayaran yang dilakukan oleh pelanggan.\n",
    "\n",
    "- `price`, `freight_value`, dan `payment_value`: fitur ini dipilih karena memungkinkan kita untuk menganalisis besarnya biaya yang dikeluarkan oleh pelanggan dan mengidentifikasi faktor-faktor yang mempengaruhi biaya tersebut, seperti jarak pengiriman, harga produk, dan metode pembayaran. Dengan informasi ini, kita dapat mengoptimalkan harga dan biaya pengiriman untuk meningkatkan penjualan dan keuntungan."
   ]
  },
  {
   "attachments": {},
   "cell_type": "markdown",
   "id": "8a71b615",
   "metadata": {
    "id": "8a71b615"
   },
   "source": [
    "## RFM Analysis\n",
    "\n",
    "RFM analysis adalah salah satu teknik segmentasi pelanggan yang digunakan untuk memahami dan mengelompokkan pelanggan berdasarkan perilaku pembelian mereka. RFM adalah singkatan dari `Recency`, `Frequency`, dan `Monetary`.\n",
    "\n",
    "- `Recency`: Menunjukkan kapan terakhir kali pelanggan melakukan pembelian. Pelanggan yang melakukan pembelian baru-baru ini memiliki skor recency yang tinggi.\n",
    "- `Frequency`: Menunjukkan seberapa sering pelanggan melakukan pembelian. Pelanggan yang sering melakukan pembelian memiliki skor frequency yang tinggi.\n",
    "- `Monetary`: Menunjukkan seberapa besar nilai transaksi yang dilakukan oleh pelanggan. Pelanggan yang melakukan pembelian dengan nilai transaksi yang tinggi memiliki skor monetary yang tinggi.\n",
    "\n",
    "\n",
    "Penggunaan fitur-fitur tersebut dapat memberikan pengaruh yang signifikan dalam pembuatan segmentasi customer menggunakan RFM analysis. Berikut adalah penjelasan tentang setiap fitur tersebut dan pengaruhnya dalam segmentasi:\n",
    "\n",
    "- `'customer_unique_id'`: merupakan ID unik untuk setiap customer dan dapat digunakan untuk mengidentifikasi setiap customer secara individual dalam segmentasi.\n",
    "\n",
    "- `'customer_city'` dan `'customer_state'`: fitur ini dapat membantu dalam segmentasi berdasarkan lokasi geografis customer, sehingga memudahkan dalam membuat strategi pemasaran yang lebih terfokus pada area tertentu.\n",
    "\n",
    "- `'order_approved_at'`, `'order_id'`: fitur-fitur ini dapat digunakan untuk menghitung nilai RFM (Recency, Frequency, Monetary) untuk setiap customer. RFM digunakan untuk membagi customer ke dalam kelompok yang berbeda berdasarkan perilaku pembelian mereka.\n",
    "\n",
    "- `'subcategory'` dan `'Category'`: fitur ini dapat membantu dalam segmentasi berdasarkan jenis produk yang dibeli oleh customer. Hal ini dapat membantu dalam memahami preferensi customer dan membuat strategi pemasaran yang lebih tepat sasaran.\n",
    "\n",
    "- `'price'`, `'payment_type'`, dan `'payment_value'`: fitur ini dapat digunakan untuk menghitung nilai Moneter (Monetary Value) untuk setiap customer, yang menunjukkan seberapa banyak uang yang dihabiskan oleh customer dalam jangka waktu tertentu."
   ]
  },
  {
   "cell_type": "code",
   "execution_count": 7,
   "id": "c48229f7",
   "metadata": {
    "ExecuteTime": {
     "end_time": "2023-05-12T13:27:26.619443Z",
     "start_time": "2023-05-12T13:27:26.511194Z"
    },
    "colab": {
     "base_uri": "https://localhost:8080/",
     "height": 270
    },
    "executionInfo": {
     "elapsed": 52,
     "status": "ok",
     "timestamp": 1683876958248,
     "user": {
      "displayName": "Muhammad Rafi",
      "userId": "02077341653276340637"
     },
     "user_tz": -420
    },
    "id": "c48229f7",
    "outputId": "a9fccdfe-a96d-41bf-ffa6-7fde9f95485d"
   },
   "outputs": [
    {
     "data": {
      "text/html": [
       "<div>\n",
       "<style scoped>\n",
       "    .dataframe tbody tr th:only-of-type {\n",
       "        vertical-align: middle;\n",
       "    }\n",
       "\n",
       "    .dataframe tbody tr th {\n",
       "        vertical-align: top;\n",
       "    }\n",
       "\n",
       "    .dataframe thead th {\n",
       "        text-align: right;\n",
       "    }\n",
       "</style>\n",
       "<table border=\"1\" class=\"dataframe\">\n",
       "  <thead>\n",
       "    <tr style=\"text-align: right;\">\n",
       "      <th></th>\n",
       "      <th>customer_unique_id</th>\n",
       "      <th>customer_city</th>\n",
       "      <th>customer_state</th>\n",
       "      <th>order_approved_at</th>\n",
       "      <th>order_id</th>\n",
       "      <th>delivery_time_days</th>\n",
       "      <th>seller_id</th>\n",
       "      <th>seller_state</th>\n",
       "      <th>Category</th>\n",
       "      <th>subcategory</th>\n",
       "      <th>payment_type</th>\n",
       "      <th>payment_installments</th>\n",
       "      <th>price</th>\n",
       "      <th>freight_value</th>\n",
       "      <th>payment_value</th>\n",
       "      <th>order_day</th>\n",
       "      <th>review_score</th>\n",
       "    </tr>\n",
       "  </thead>\n",
       "  <tbody>\n",
       "    <tr>\n",
       "      <th>0</th>\n",
       "      <td>861eff4711a542e4b93843c6dd7febb0</td>\n",
       "      <td>franca</td>\n",
       "      <td>SP</td>\n",
       "      <td>2017-05-16</td>\n",
       "      <td>00e7ee1b050b8499577073aeb2a297a1</td>\n",
       "      <td>9</td>\n",
       "      <td>7c67e1448b00f6e969d365cea6b010ab</td>\n",
       "      <td>SP</td>\n",
       "      <td>Furniture</td>\n",
       "      <td>office_furniture</td>\n",
       "      <td>credit_card</td>\n",
       "      <td>2</td>\n",
       "      <td>124.99</td>\n",
       "      <td>21.88</td>\n",
       "      <td>146.87</td>\n",
       "      <td>Tuesday</td>\n",
       "      <td>4</td>\n",
       "    </tr>\n",
       "    <tr>\n",
       "      <th>1</th>\n",
       "      <td>f40ab89b622248b7ca125af4b486b887</td>\n",
       "      <td>contagem</td>\n",
       "      <td>MG</td>\n",
       "      <td>2017-05-17</td>\n",
       "      <td>e0b26f14d2bcc710bb02f77a4628763b</td>\n",
       "      <td>12</td>\n",
       "      <td>7c67e1448b00f6e969d365cea6b010ab</td>\n",
       "      <td>SP</td>\n",
       "      <td>Furniture</td>\n",
       "      <td>office_furniture</td>\n",
       "      <td>boleto</td>\n",
       "      <td>1</td>\n",
       "      <td>124.99</td>\n",
       "      <td>30.71</td>\n",
       "      <td>155.70</td>\n",
       "      <td>Tuesday</td>\n",
       "      <td>4</td>\n",
       "    </tr>\n",
       "    <tr>\n",
       "      <th>2</th>\n",
       "      <td>432ecfa8b7b7ad2663c7abed0dc83c51</td>\n",
       "      <td>belo horizonte</td>\n",
       "      <td>MG</td>\n",
       "      <td>2018-03-15</td>\n",
       "      <td>c4e2bd2043fbd75b325a47adfabf0d77</td>\n",
       "      <td>21</td>\n",
       "      <td>7c67e1448b00f6e969d365cea6b010ab</td>\n",
       "      <td>SP</td>\n",
       "      <td>Furniture</td>\n",
       "      <td>office_furniture</td>\n",
       "      <td>credit_card</td>\n",
       "      <td>3</td>\n",
       "      <td>116.99</td>\n",
       "      <td>33.08</td>\n",
       "      <td>150.07</td>\n",
       "      <td>Thursday</td>\n",
       "      <td>3</td>\n",
       "    </tr>\n",
       "    <tr>\n",
       "      <th>3</th>\n",
       "      <td>67d6f91d256bdf128fc960a166f413d5</td>\n",
       "      <td>petropolis</td>\n",
       "      <td>RJ</td>\n",
       "      <td>2017-10-13</td>\n",
       "      <td>0d831c5aa932379c1cf5b0b1b40b214b</td>\n",
       "      <td>19</td>\n",
       "      <td>7c67e1448b00f6e969d365cea6b010ab</td>\n",
       "      <td>SP</td>\n",
       "      <td>Furniture</td>\n",
       "      <td>office_furniture</td>\n",
       "      <td>credit_card</td>\n",
       "      <td>1</td>\n",
       "      <td>116.99</td>\n",
       "      <td>34.18</td>\n",
       "      <td>151.17</td>\n",
       "      <td>Friday</td>\n",
       "      <td>3</td>\n",
       "    </tr>\n",
       "    <tr>\n",
       "      <th>4</th>\n",
       "      <td>1c91f8d50340522dd6601237ad13afff</td>\n",
       "      <td>colider</td>\n",
       "      <td>MT</td>\n",
       "      <td>2018-02-07</td>\n",
       "      <td>be2463c66944514bb175f7a519a72cd7</td>\n",
       "      <td>23</td>\n",
       "      <td>7c67e1448b00f6e969d365cea6b010ab</td>\n",
       "      <td>SP</td>\n",
       "      <td>Furniture</td>\n",
       "      <td>office_furniture</td>\n",
       "      <td>credit_card</td>\n",
       "      <td>1</td>\n",
       "      <td>116.99</td>\n",
       "      <td>43.19</td>\n",
       "      <td>160.18</td>\n",
       "      <td>Wednesday</td>\n",
       "      <td>4</td>\n",
       "    </tr>\n",
       "  </tbody>\n",
       "</table>\n",
       "</div>"
      ],
      "text/plain": [
       "                 customer_unique_id   customer_city customer_state  \\\n",
       "0  861eff4711a542e4b93843c6dd7febb0          franca             SP   \n",
       "1  f40ab89b622248b7ca125af4b486b887        contagem             MG   \n",
       "2  432ecfa8b7b7ad2663c7abed0dc83c51  belo horizonte             MG   \n",
       "3  67d6f91d256bdf128fc960a166f413d5      petropolis             RJ   \n",
       "4  1c91f8d50340522dd6601237ad13afff         colider             MT   \n",
       "\n",
       "  order_approved_at                          order_id  delivery_time_days  \\\n",
       "0        2017-05-16  00e7ee1b050b8499577073aeb2a297a1                   9   \n",
       "1        2017-05-17  e0b26f14d2bcc710bb02f77a4628763b                  12   \n",
       "2        2018-03-15  c4e2bd2043fbd75b325a47adfabf0d77                  21   \n",
       "3        2017-10-13  0d831c5aa932379c1cf5b0b1b40b214b                  19   \n",
       "4        2018-02-07  be2463c66944514bb175f7a519a72cd7                  23   \n",
       "\n",
       "                          seller_id seller_state   Category       subcategory  \\\n",
       "0  7c67e1448b00f6e969d365cea6b010ab           SP  Furniture  office_furniture   \n",
       "1  7c67e1448b00f6e969d365cea6b010ab           SP  Furniture  office_furniture   \n",
       "2  7c67e1448b00f6e969d365cea6b010ab           SP  Furniture  office_furniture   \n",
       "3  7c67e1448b00f6e969d365cea6b010ab           SP  Furniture  office_furniture   \n",
       "4  7c67e1448b00f6e969d365cea6b010ab           SP  Furniture  office_furniture   \n",
       "\n",
       "  payment_type  payment_installments   price  freight_value  payment_value  \\\n",
       "0  credit_card                     2  124.99          21.88         146.87   \n",
       "1       boleto                     1  124.99          30.71         155.70   \n",
       "2  credit_card                     3  116.99          33.08         150.07   \n",
       "3  credit_card                     1  116.99          34.18         151.17   \n",
       "4  credit_card                     1  116.99          43.19         160.18   \n",
       "\n",
       "   order_day  review_score  \n",
       "0    Tuesday             4  \n",
       "1    Tuesday             4  \n",
       "2   Thursday             3  \n",
       "3     Friday             3  \n",
       "4  Wednesday             4  "
      ]
     },
     "execution_count": 7,
     "metadata": {},
     "output_type": "execute_result"
    }
   ],
   "source": [
    "df.head()"
   ]
  },
  {
   "attachments": {},
   "cell_type": "markdown",
   "id": "8782ab72",
   "metadata": {
    "id": "8782ab72"
   },
   "source": [
    "**Check Duplicated**\n",
    "\n",
    "Dalam melakukan segmentasi customer kita akan menggunakan metode RFM Analysis sebagai dasar nya, oleh karena itu kita hanya akan menggunakan beberapa kolom yang berhubungan dengan metode tersebut seperti yang sudah dijelaskan sebelumnya.\n",
    "\n",
    "Karena fitur / kolom yang kita gunakan berkurang maka akan ada potensi data-data yang memiliki duplicate, oleh karena itu kita akan drop data-data yang memiliki duplikat untuk memastikan data yang digunakan pada proses analisa bersih dan akurat."
   ]
  },
  {
   "cell_type": "code",
   "execution_count": 8,
   "id": "23680e62",
   "metadata": {
    "ExecuteTime": {
     "end_time": "2023-05-12T13:27:26.823103Z",
     "start_time": "2023-05-12T13:27:26.622437Z"
    },
    "colab": {
     "base_uri": "https://localhost:8080/"
    },
    "executionInfo": {
     "elapsed": 52,
     "status": "ok",
     "timestamp": 1683876958251,
     "user": {
      "displayName": "Muhammad Rafi",
      "userId": "02077341653276340637"
     },
     "user_tz": -420
    },
    "id": "23680e62",
    "outputId": "1a2dd963-a675-403f-b04f-64cc9c961a2a",
    "scrolled": true
   },
   "outputs": [
    {
     "data": {
      "text/plain": [
       "239"
      ]
     },
     "execution_count": 8,
     "metadata": {},
     "output_type": "execute_result"
    }
   ],
   "source": [
    "df.duplicated().sum()"
   ]
  },
  {
   "cell_type": "code",
   "execution_count": 9,
   "id": "7f45f149",
   "metadata": {
    "ExecuteTime": {
     "end_time": "2023-05-12T13:27:26.950292Z",
     "start_time": "2023-05-12T13:27:26.826095Z"
    },
    "executionInfo": {
     "elapsed": 610,
     "status": "ok",
     "timestamp": 1683876958816,
     "user": {
      "displayName": "Muhammad Rafi",
      "userId": "02077341653276340637"
     },
     "user_tz": -420
    },
    "id": "7f45f149"
   },
   "outputs": [],
   "source": [
    "df = df[~df.duplicated()]"
   ]
  },
  {
   "attachments": {},
   "cell_type": "markdown",
   "id": "e8342075",
   "metadata": {
    "id": "e8342075"
   },
   "source": [
    "## Recency"
   ]
  },
  {
   "cell_type": "code",
   "execution_count": 10,
   "id": "dfe7a237",
   "metadata": {
    "ExecuteTime": {
     "end_time": "2023-05-12T13:27:33.409951Z",
     "start_time": "2023-05-12T13:27:26.952270Z"
    },
    "colab": {
     "base_uri": "https://localhost:8080/",
     "height": 206
    },
    "executionInfo": {
     "elapsed": 6423,
     "status": "ok",
     "timestamp": 1683876965224,
     "user": {
      "displayName": "Muhammad Rafi",
      "userId": "02077341653276340637"
     },
     "user_tz": -420
    },
    "id": "dfe7a237",
    "outputId": "7a2315bf-1612-47ea-caa0-c7b06186d23d"
   },
   "outputs": [
    {
     "data": {
      "text/html": [
       "<div>\n",
       "<style scoped>\n",
       "    .dataframe tbody tr th:only-of-type {\n",
       "        vertical-align: middle;\n",
       "    }\n",
       "\n",
       "    .dataframe tbody tr th {\n",
       "        vertical-align: top;\n",
       "    }\n",
       "\n",
       "    .dataframe thead th {\n",
       "        text-align: right;\n",
       "    }\n",
       "</style>\n",
       "<table border=\"1\" class=\"dataframe\">\n",
       "  <thead>\n",
       "    <tr style=\"text-align: right;\">\n",
       "      <th></th>\n",
       "      <th>CustomerName</th>\n",
       "      <th>LastPurchaseDate</th>\n",
       "      <th>Recency</th>\n",
       "    </tr>\n",
       "  </thead>\n",
       "  <tbody>\n",
       "    <tr>\n",
       "      <th>0</th>\n",
       "      <td>0000366f3b9a7992bf8c76cfdf3221e2</td>\n",
       "      <td>2018-05-10</td>\n",
       "      <td>111</td>\n",
       "    </tr>\n",
       "    <tr>\n",
       "      <th>1</th>\n",
       "      <td>0000f46a3911fa3c0805444483337064</td>\n",
       "      <td>2017-03-10</td>\n",
       "      <td>537</td>\n",
       "    </tr>\n",
       "    <tr>\n",
       "      <th>2</th>\n",
       "      <td>0004bd2a26a76fe21f786e4fbd80607f</td>\n",
       "      <td>2018-04-05</td>\n",
       "      <td>146</td>\n",
       "    </tr>\n",
       "    <tr>\n",
       "      <th>3</th>\n",
       "      <td>0005e1862207bf6ccc02e4228effd9a0</td>\n",
       "      <td>2017-03-04</td>\n",
       "      <td>543</td>\n",
       "    </tr>\n",
       "    <tr>\n",
       "      <th>4</th>\n",
       "      <td>0006fdc98a402fceb4eb0ee528f6a8d4</td>\n",
       "      <td>2017-07-18</td>\n",
       "      <td>407</td>\n",
       "    </tr>\n",
       "  </tbody>\n",
       "</table>\n",
       "</div>"
      ],
      "text/plain": [
       "                       CustomerName LastPurchaseDate  Recency\n",
       "0  0000366f3b9a7992bf8c76cfdf3221e2       2018-05-10      111\n",
       "1  0000f46a3911fa3c0805444483337064       2017-03-10      537\n",
       "2  0004bd2a26a76fe21f786e4fbd80607f       2018-04-05      146\n",
       "3  0005e1862207bf6ccc02e4228effd9a0       2017-03-04      543\n",
       "4  0006fdc98a402fceb4eb0ee528f6a8d4       2017-07-18      407"
      ]
     },
     "execution_count": 10,
     "metadata": {},
     "output_type": "execute_result"
    }
   ],
   "source": [
    "df_recency = df.groupby(by='customer_unique_id',\n",
    "                        as_index=False)['order_approved_at'].max()\n",
    "df_recency.columns = ['CustomerName', 'LastPurchaseDate']\n",
    "\n",
    "df_recency['LastPurchaseDate'] = pd.to_datetime(df_recency['LastPurchaseDate'])\n",
    "\n",
    "recent_date = df_recency['LastPurchaseDate'].max()\n",
    "\n",
    "df_recency['Recency'] = df_recency['LastPurchaseDate'].apply(\n",
    "    lambda x: (recent_date - x).days)\n",
    "df_recency.head()"
   ]
  },
  {
   "attachments": {},
   "cell_type": "markdown",
   "id": "434c491f",
   "metadata": {
    "id": "434c491f"
   },
   "source": [
    "## Frequency"
   ]
  },
  {
   "cell_type": "code",
   "execution_count": 11,
   "id": "a52a9327",
   "metadata": {
    "ExecuteTime": {
     "end_time": "2023-05-12T13:27:33.536443Z",
     "start_time": "2023-05-12T13:27:33.412926Z"
    },
    "colab": {
     "base_uri": "https://localhost:8080/",
     "height": 206
    },
    "executionInfo": {
     "elapsed": 36,
     "status": "ok",
     "timestamp": 1683876965226,
     "user": {
      "displayName": "Muhammad Rafi",
      "userId": "02077341653276340637"
     },
     "user_tz": -420
    },
    "id": "a52a9327",
    "outputId": "5b247564-97d3-48f4-d47f-288e467c16ab",
    "scrolled": true
   },
   "outputs": [
    {
     "data": {
      "text/html": [
       "<div>\n",
       "<style scoped>\n",
       "    .dataframe tbody tr th:only-of-type {\n",
       "        vertical-align: middle;\n",
       "    }\n",
       "\n",
       "    .dataframe tbody tr th {\n",
       "        vertical-align: top;\n",
       "    }\n",
       "\n",
       "    .dataframe thead th {\n",
       "        text-align: right;\n",
       "    }\n",
       "</style>\n",
       "<table border=\"1\" class=\"dataframe\">\n",
       "  <thead>\n",
       "    <tr style=\"text-align: right;\">\n",
       "      <th></th>\n",
       "      <th>CustomerName</th>\n",
       "      <th>Frequency</th>\n",
       "    </tr>\n",
       "  </thead>\n",
       "  <tbody>\n",
       "    <tr>\n",
       "      <th>0</th>\n",
       "      <td>0000366f3b9a7992bf8c76cfdf3221e2</td>\n",
       "      <td>1</td>\n",
       "    </tr>\n",
       "    <tr>\n",
       "      <th>1</th>\n",
       "      <td>0000f46a3911fa3c0805444483337064</td>\n",
       "      <td>1</td>\n",
       "    </tr>\n",
       "    <tr>\n",
       "      <th>2</th>\n",
       "      <td>0004bd2a26a76fe21f786e4fbd80607f</td>\n",
       "      <td>1</td>\n",
       "    </tr>\n",
       "    <tr>\n",
       "      <th>3</th>\n",
       "      <td>0005e1862207bf6ccc02e4228effd9a0</td>\n",
       "      <td>1</td>\n",
       "    </tr>\n",
       "    <tr>\n",
       "      <th>4</th>\n",
       "      <td>0006fdc98a402fceb4eb0ee528f6a8d4</td>\n",
       "      <td>1</td>\n",
       "    </tr>\n",
       "  </tbody>\n",
       "</table>\n",
       "</div>"
      ],
      "text/plain": [
       "                       CustomerName  Frequency\n",
       "0  0000366f3b9a7992bf8c76cfdf3221e2          1\n",
       "1  0000f46a3911fa3c0805444483337064          1\n",
       "2  0004bd2a26a76fe21f786e4fbd80607f          1\n",
       "3  0005e1862207bf6ccc02e4228effd9a0          1\n",
       "4  0006fdc98a402fceb4eb0ee528f6a8d4          1"
      ]
     },
     "execution_count": 11,
     "metadata": {},
     "output_type": "execute_result"
    }
   ],
   "source": [
    "frequency_df = df.groupby(\n",
    "    by=['customer_unique_id'], as_index=False)['order_id'].nunique()\n",
    "frequency_df.columns = ['CustomerName', 'Frequency']\n",
    "frequency_df.head()"
   ]
  },
  {
   "cell_type": "code",
   "execution_count": 12,
   "id": "0f63104f",
   "metadata": {
    "ExecuteTime": {
     "end_time": "2023-05-12T13:27:33.567362Z",
     "start_time": "2023-05-12T13:27:33.539434Z"
    },
    "colab": {
     "base_uri": "https://localhost:8080/"
    },
    "executionInfo": {
     "elapsed": 34,
     "status": "ok",
     "timestamp": 1683876965228,
     "user": {
      "displayName": "Muhammad Rafi",
      "userId": "02077341653276340637"
     },
     "user_tz": -420
    },
    "id": "0f63104f",
    "outputId": "88dc3ef8-ddec-4d00-aa6c-251430a1f213"
   },
   "outputs": [
    {
     "data": {
      "text/plain": [
       "1     97.875443\n",
       "2      1.978737\n",
       "3      0.118690\n",
       "4      0.016956\n",
       "5      0.006782\n",
       "6      0.001696\n",
       "11     0.001696\n",
       "Name: Frequency, dtype: float64"
      ]
     },
     "execution_count": 12,
     "metadata": {},
     "output_type": "execute_result"
    }
   ],
   "source": [
    "frequency_df.Frequency.value_counts()/len(frequency_df)*100"
   ]
  },
  {
   "attachments": {},
   "cell_type": "markdown",
   "id": "6aa44163",
   "metadata": {
    "id": "6aa44163"
   },
   "source": [
    "## Monetary"
   ]
  },
  {
   "cell_type": "code",
   "execution_count": 13,
   "id": "480e4ddf",
   "metadata": {
    "ExecuteTime": {
     "end_time": "2023-05-12T13:27:33.723488Z",
     "start_time": "2023-05-12T13:27:33.570371Z"
    },
    "colab": {
     "base_uri": "https://localhost:8080/",
     "height": 206
    },
    "executionInfo": {
     "elapsed": 30,
     "status": "ok",
     "timestamp": 1683876965230,
     "user": {
      "displayName": "Muhammad Rafi",
      "userId": "02077341653276340637"
     },
     "user_tz": -420
    },
    "id": "480e4ddf",
    "outputId": "88da1b15-a192-4602-916e-066a6c478839"
   },
   "outputs": [
    {
     "data": {
      "text/html": [
       "<div>\n",
       "<style scoped>\n",
       "    .dataframe tbody tr th:only-of-type {\n",
       "        vertical-align: middle;\n",
       "    }\n",
       "\n",
       "    .dataframe tbody tr th {\n",
       "        vertical-align: top;\n",
       "    }\n",
       "\n",
       "    .dataframe thead th {\n",
       "        text-align: right;\n",
       "    }\n",
       "</style>\n",
       "<table border=\"1\" class=\"dataframe\">\n",
       "  <thead>\n",
       "    <tr style=\"text-align: right;\">\n",
       "      <th></th>\n",
       "      <th>CustomerName</th>\n",
       "      <th>Monetary</th>\n",
       "    </tr>\n",
       "  </thead>\n",
       "  <tbody>\n",
       "    <tr>\n",
       "      <th>0</th>\n",
       "      <td>0000366f3b9a7992bf8c76cfdf3221e2</td>\n",
       "      <td>141.90</td>\n",
       "    </tr>\n",
       "    <tr>\n",
       "      <th>1</th>\n",
       "      <td>0000f46a3911fa3c0805444483337064</td>\n",
       "      <td>86.22</td>\n",
       "    </tr>\n",
       "    <tr>\n",
       "      <th>2</th>\n",
       "      <td>0004bd2a26a76fe21f786e4fbd80607f</td>\n",
       "      <td>166.98</td>\n",
       "    </tr>\n",
       "    <tr>\n",
       "      <th>3</th>\n",
       "      <td>0005e1862207bf6ccc02e4228effd9a0</td>\n",
       "      <td>150.12</td>\n",
       "    </tr>\n",
       "    <tr>\n",
       "      <th>4</th>\n",
       "      <td>0006fdc98a402fceb4eb0ee528f6a8d4</td>\n",
       "      <td>29.00</td>\n",
       "    </tr>\n",
       "  </tbody>\n",
       "</table>\n",
       "</div>"
      ],
      "text/plain": [
       "                       CustomerName  Monetary\n",
       "0  0000366f3b9a7992bf8c76cfdf3221e2    141.90\n",
       "1  0000f46a3911fa3c0805444483337064     86.22\n",
       "2  0004bd2a26a76fe21f786e4fbd80607f    166.98\n",
       "3  0005e1862207bf6ccc02e4228effd9a0    150.12\n",
       "4  0006fdc98a402fceb4eb0ee528f6a8d4     29.00"
      ]
     },
     "execution_count": 13,
     "metadata": {},
     "output_type": "execute_result"
    }
   ],
   "source": [
    "df['payment_value'] = df['price'] + df['freight_value']\n",
    "df['Total'] = df['payment_value']\n",
    "monetary_df = df.groupby(by='customer_unique_id', as_index=False)['Total'].sum()\n",
    "monetary_df.columns = ['CustomerName', 'Monetary']\n",
    "monetary_df.head()"
   ]
  },
  {
   "attachments": {},
   "cell_type": "markdown",
   "id": "32df0f2b",
   "metadata": {
    "id": "32df0f2b"
   },
   "source": [
    "**Merging**"
   ]
  },
  {
   "cell_type": "code",
   "execution_count": 14,
   "id": "06d7c921",
   "metadata": {
    "ExecuteTime": {
     "end_time": "2023-05-12T13:27:33.832477Z",
     "start_time": "2023-05-12T13:27:33.726518Z"
    },
    "colab": {
     "base_uri": "https://localhost:8080/",
     "height": 206
    },
    "executionInfo": {
     "elapsed": 584,
     "status": "ok",
     "timestamp": 1683876965787,
     "user": {
      "displayName": "Muhammad Rafi",
      "userId": "02077341653276340637"
     },
     "user_tz": -420
    },
    "id": "06d7c921",
    "outputId": "2ce19da5-74b1-4268-a2c9-1ae5c6d0e014",
    "scrolled": true
   },
   "outputs": [
    {
     "data": {
      "text/html": [
       "<div>\n",
       "<style scoped>\n",
       "    .dataframe tbody tr th:only-of-type {\n",
       "        vertical-align: middle;\n",
       "    }\n",
       "\n",
       "    .dataframe tbody tr th {\n",
       "        vertical-align: top;\n",
       "    }\n",
       "\n",
       "    .dataframe thead th {\n",
       "        text-align: right;\n",
       "    }\n",
       "</style>\n",
       "<table border=\"1\" class=\"dataframe\">\n",
       "  <thead>\n",
       "    <tr style=\"text-align: right;\">\n",
       "      <th></th>\n",
       "      <th>CustomerName</th>\n",
       "      <th>Recency</th>\n",
       "      <th>Frequency</th>\n",
       "      <th>Monetary</th>\n",
       "    </tr>\n",
       "  </thead>\n",
       "  <tbody>\n",
       "    <tr>\n",
       "      <th>0</th>\n",
       "      <td>0000366f3b9a7992bf8c76cfdf3221e2</td>\n",
       "      <td>111</td>\n",
       "      <td>1</td>\n",
       "      <td>141.90</td>\n",
       "    </tr>\n",
       "    <tr>\n",
       "      <th>1</th>\n",
       "      <td>0000f46a3911fa3c0805444483337064</td>\n",
       "      <td>537</td>\n",
       "      <td>1</td>\n",
       "      <td>86.22</td>\n",
       "    </tr>\n",
       "    <tr>\n",
       "      <th>2</th>\n",
       "      <td>0004bd2a26a76fe21f786e4fbd80607f</td>\n",
       "      <td>146</td>\n",
       "      <td>1</td>\n",
       "      <td>166.98</td>\n",
       "    </tr>\n",
       "    <tr>\n",
       "      <th>3</th>\n",
       "      <td>0005e1862207bf6ccc02e4228effd9a0</td>\n",
       "      <td>543</td>\n",
       "      <td>1</td>\n",
       "      <td>150.12</td>\n",
       "    </tr>\n",
       "    <tr>\n",
       "      <th>4</th>\n",
       "      <td>0006fdc98a402fceb4eb0ee528f6a8d4</td>\n",
       "      <td>407</td>\n",
       "      <td>1</td>\n",
       "      <td>29.00</td>\n",
       "    </tr>\n",
       "  </tbody>\n",
       "</table>\n",
       "</div>"
      ],
      "text/plain": [
       "                       CustomerName  Recency  Frequency  Monetary\n",
       "0  0000366f3b9a7992bf8c76cfdf3221e2      111          1    141.90\n",
       "1  0000f46a3911fa3c0805444483337064      537          1     86.22\n",
       "2  0004bd2a26a76fe21f786e4fbd80607f      146          1    166.98\n",
       "3  0005e1862207bf6ccc02e4228effd9a0      543          1    150.12\n",
       "4  0006fdc98a402fceb4eb0ee528f6a8d4      407          1     29.00"
      ]
     },
     "execution_count": 14,
     "metadata": {},
     "output_type": "execute_result"
    }
   ],
   "source": [
    "rf_df = df_recency.merge(frequency_df, on='CustomerName')\n",
    "rfm_df = rf_df.merge(monetary_df, on='CustomerName').drop(\n",
    "    columns='LastPurchaseDate')\n",
    "rfm_df.head()"
   ]
  },
  {
   "cell_type": "code",
   "execution_count": 15,
   "id": "87aa2a9e",
   "metadata": {
    "ExecuteTime": {
     "end_time": "2023-05-12T13:27:33.848488Z",
     "start_time": "2023-05-12T13:27:33.839504Z"
    },
    "executionInfo": {
     "elapsed": 11,
     "status": "ok",
     "timestamp": 1683876965789,
     "user": {
      "displayName": "Muhammad Rafi",
      "userId": "02077341653276340637"
     },
     "user_tz": -420
    },
    "id": "87aa2a9e"
   },
   "outputs": [],
   "source": [
    "rfm_df.rename(columns={'CustomerName': 'customer_unique_id'}, inplace=True)"
   ]
  },
  {
   "cell_type": "code",
   "execution_count": 16,
   "id": "aa4118b2",
   "metadata": {
    "ExecuteTime": {
     "end_time": "2023-05-12T13:27:37.921189Z",
     "start_time": "2023-05-12T13:27:33.851471Z"
    },
    "colab": {
     "base_uri": "https://localhost:8080/",
     "height": 1000
    },
    "executionInfo": {
     "elapsed": 3860,
     "status": "ok",
     "timestamp": 1683876969639,
     "user": {
      "displayName": "Muhammad Rafi",
      "userId": "02077341653276340637"
     },
     "user_tz": -420
    },
    "id": "aa4118b2",
    "outputId": "1609f4bf-6b4a-4f37-84b6-32afba046d2c"
   },
   "outputs": [
    {
     "data": {
      "image/png": "[encoded data removed]",
      "text/plain": [
       "<Figure size 1200x1500 with 6 Axes>"
      ]
     },
     "metadata": {},
     "output_type": "display_data"
    }
   ],
   "source": [
    "fig, axes = plt.subplots(3, 2, figsize=(12, 15))\n",
    "\n",
    "# Histogram R_rank\n",
    "sns.histplot(rfm_df['Recency'], kde=True, ax=axes[0, 0])\n",
    "axes[0, 0].set_title('Histogram of R')\n",
    "\n",
    "# Q-Q plot R_rank\n",
    "stats.probplot(rfm_df['Recency'], dist='norm', plot=axes[0, 1])\n",
    "axes[0, 1].set_title('Q-Q plot of R')\n",
    "\n",
    "# Histogram F_rank\n",
    "sns.histplot(rfm_df['Frequency'], kde=True, ax=axes[1, 0])\n",
    "axes[1, 0].set_title('Histogram of F')\n",
    "\n",
    "# Q-Q plot F_rank\n",
    "stats.probplot(rfm_df['Frequency'], dist='norm', plot=axes[1, 1])\n",
    "axes[1, 1].set_title('Q-Q plot of F')\n",
    "\n",
    "# Histogram M_rank\n",
    "sns.histplot(rfm_df['Monetary'], kde=True, ax=axes[2, 0])\n",
    "axes[2, 0].set_title('Histogram of M')\n",
    "\n",
    "# Q-Q plot M_rank\n",
    "stats.probplot(rfm_df['Monetary'], dist='norm', plot=axes[2, 1])\n",
    "axes[2, 1].set_title('Q-Q plot of M')\n",
    "\n",
    "plt.tight_layout()\n",
    "plt.show()"
   ]
  },
  {
   "attachments": {},
   "cell_type": "markdown",
   "id": "b6355a02",
   "metadata": {
    "id": "b6355a02"
   },
   "source": [
    "Jika dilihat pada gambar diatas, dapat disimpulkan bahwa `Recency` memiliki nilai yang melebar ke kanan sehingga dapat dikatakan bahwa distribusi skewed. Frekuensi memiliki skeweness yang lebih buruk, jika diperhatikan persebaran melebar ke kanan namun dengan majority of observation berada diantara 1-2 sedangkan nilai terus melebar hingga lebih dari 10. \n",
    "\n",
    "**Lalu bagaimana cara kita mengatasi skewness ini?**  \n",
    "Jadi nanti ketika kita melakukan modeling dengan K-Means kita perlu menggunakan scaler yang tepat untuk masalah ini. Kita dapat menerapkan beberapa metode untuk mengatasi unskewness ini diantaranya adalah Logarithmic Transformation dan Box-Cox Transformation. Kita akan melakukan metode ini setelah kita mengurutkan data berdasarkan rank."
   ]
  },
  {
   "cell_type": "code",
   "execution_count": 17,
   "id": "89f4a1af",
   "metadata": {
    "ExecuteTime": {
     "end_time": "2023-05-12T13:27:37.966967Z",
     "start_time": "2023-05-12T13:27:37.924157Z"
    },
    "executionInfo": {
     "elapsed": 65,
     "status": "ok",
     "timestamp": 1683876969641,
     "user": {
      "displayName": "Muhammad Rafi",
      "userId": "02077341653276340637"
     },
     "user_tz": -420
    },
    "id": "89f4a1af"
   },
   "outputs": [],
   "source": [
    "rfm_df['R_rank'] = rfm_df['Recency'].rank(ascending=False, method='dense')\n",
    "rfm_df['F_rank'] = rfm_df['Frequency'].rank(ascending=True, method='dense')\n",
    "rfm_df['M_rank'] = rfm_df['Monetary'].rank(ascending=True, method='dense')"
   ]
  },
  {
   "attachments": {},
   "cell_type": "markdown",
   "id": "27bfde68",
   "metadata": {
    "id": "27bfde68"
   },
   "source": [
    "Proses diatas dilakukan untuk mengurutkan berdasarkan rank atau urutan dari besar nya nilai Recency Frequency dan Monetary. Proses ini bertujuan untuk meberi skor atau penilaian dari ketiga faktor tersebut, sehingga setiap faktor memiliki kontribusi yang seimbang dalam menghasilkan skor."
   ]
  },
  {
   "attachments": {},
   "cell_type": "markdown",
   "id": "b1445beb",
   "metadata": {
    "id": "b1445beb"
   },
   "source": [
    "Tujuan dari melakukan proses ranking pada variabel R, F, dan M menggunakan metode rank() pada pandas adalah untuk memberikan nilai ranking kepada setiap data dalam variabel tersebut. Proses ranking dilakukan untuk mengurutkan data dari nilai yang terendah hingga tertinggi atau sebaliknya, dan memberikan nilai ranking yang sesuai dengan urutan tersebut.\n",
    "\n",
    "Proses ranking ini dapat membantu dalam analisis RFM karena dapat mengelompokkan pelanggan berdasarkan nilai RFM yang sama dengan lebih mudah dan akurat. Dengan memberikan nilai ranking pada setiap data, kita dapat membandingkan pelanggan berdasarkan urutan nilai RFM mereka. Misalnya, kita dapat melihat pelanggan yang memiliki ranking tertinggi pada variabel Recency, ranking terendah pada variabel Frequency, dan ranking tengah pada variabel Monetary, sehingga kita dapat mengelompokkan pelanggan tersebut ke dalam segmen tertentu.\n",
    "\n",
    "Selain itu, proses ranking juga membantu dalam menghilangkan perbedaan skala antar variabel RFM. Setiap variabel RFM memiliki skala yang berbeda, sehingga nilai Monetary, yang memiliki range nilai yang besar, dapat mempengaruhi hasil analisis lebih besar daripada nilai Recency atau Frequency, yang memiliki range nilai yang lebih kecil. Dengan melakukan proses ranking, kita dapat memperkecil perbedaan skala antar variabel RFM dan membuat nilai RFM memiliki skala yang sama, sehingga memudahkan dalam menginterpretasikan hasil analisis.\n",
    "\n",
    "*Simpel nya **Tujuan dari pemberian rank pada variabel Recency adalah untuk mengubah urutan data yang sebelumnya semakin kecil Recency maka semakin baru, menjadi semakin kecil nilainya maka semakin kecil juga pengaruhnya terhadap model**. Hal ini dilakukan agar variabel Recency memiliki pengaruh yang seimbang dengan variabel lainnya seperti Frequency dan Monetary. Dengan begitu, ketiga variabel tersebut dapat memberikan kontribusi yang seimbang dalam pembentukan segmentasi pelanggan.*"
   ]
  },
  {
   "cell_type": "code",
   "execution_count": 18,
   "id": "a78eac5a",
   "metadata": {
    "ExecuteTime": {
     "end_time": "2023-05-12T13:27:38.061285Z",
     "start_time": "2023-05-12T13:27:37.969954Z"
    },
    "executionInfo": {
     "elapsed": 830,
     "status": "ok",
     "timestamp": 1683876970410,
     "user": {
      "displayName": "Muhammad Rafi",
      "userId": "02077341653276340637"
     },
     "user_tz": -420
    },
    "id": "a78eac5a"
   },
   "outputs": [],
   "source": [
    "def boundaries(data, variables):\n",
    "    Q1 = data[variables].quantile(.25)\n",
    "    Q3 = data[variables].quantile(.75)\n",
    "    IQR = Q3-Q1\n",
    "    lower = Q1 - (3*IQR)\n",
    "    upper = Q3 + (3*IQR)\n",
    "    return Q1, Q3, IQR, lower, upper"
   ]
  },
  {
   "cell_type": "code",
   "execution_count": 19,
   "id": "8bfdb1c2",
   "metadata": {
    "ExecuteTime": {
     "end_time": "2023-05-12T13:27:38.169596Z",
     "start_time": "2023-05-12T13:27:38.065274Z"
    },
    "colab": {
     "base_uri": "https://localhost:8080/",
     "height": 300
    },
    "executionInfo": {
     "elapsed": 48,
     "status": "ok",
     "timestamp": 1683876970412,
     "user": {
      "displayName": "Muhammad Rafi",
      "userId": "02077341653276340637"
     },
     "user_tz": -420
    },
    "id": "8bfdb1c2",
    "outputId": "3b549dc1-83ad-46a3-fac1-e7c4fa0c820a"
   },
   "outputs": [
    {
     "data": {
      "text/html": [
       "<div>\n",
       "<style scoped>\n",
       "    .dataframe tbody tr th:only-of-type {\n",
       "        vertical-align: middle;\n",
       "    }\n",
       "\n",
       "    .dataframe tbody tr th {\n",
       "        vertical-align: top;\n",
       "    }\n",
       "\n",
       "    .dataframe thead th {\n",
       "        text-align: right;\n",
       "    }\n",
       "</style>\n",
       "<table border=\"1\" class=\"dataframe\">\n",
       "  <thead>\n",
       "    <tr style=\"text-align: right;\">\n",
       "      <th></th>\n",
       "      <th>Recency</th>\n",
       "      <th>Frequency</th>\n",
       "      <th>Monetary</th>\n",
       "    </tr>\n",
       "  </thead>\n",
       "  <tbody>\n",
       "    <tr>\n",
       "      <th>count</th>\n",
       "      <td>58977.000000</td>\n",
       "      <td>58977.000000</td>\n",
       "      <td>58977.000000</td>\n",
       "    </tr>\n",
       "    <tr>\n",
       "      <th>mean</th>\n",
       "      <td>233.297726</td>\n",
       "      <td>1.023195</td>\n",
       "      <td>126.207513</td>\n",
       "    </tr>\n",
       "    <tr>\n",
       "      <th>std</th>\n",
       "      <td>150.928745</td>\n",
       "      <td>0.169494</td>\n",
       "      <td>91.356966</td>\n",
       "    </tr>\n",
       "    <tr>\n",
       "      <th>min</th>\n",
       "      <td>0.000000</td>\n",
       "      <td>1.000000</td>\n",
       "      <td>10.070000</td>\n",
       "    </tr>\n",
       "    <tr>\n",
       "      <th>25%</th>\n",
       "      <td>111.000000</td>\n",
       "      <td>1.000000</td>\n",
       "      <td>61.790000</td>\n",
       "    </tr>\n",
       "    <tr>\n",
       "      <th>50%</th>\n",
       "      <td>216.000000</td>\n",
       "      <td>1.000000</td>\n",
       "      <td>99.900000</td>\n",
       "    </tr>\n",
       "    <tr>\n",
       "      <th>75%</th>\n",
       "      <td>343.000000</td>\n",
       "      <td>1.000000</td>\n",
       "      <td>163.970000</td>\n",
       "    </tr>\n",
       "    <tr>\n",
       "      <th>max</th>\n",
       "      <td>601.000000</td>\n",
       "      <td>11.000000</td>\n",
       "      <td>1236.760000</td>\n",
       "    </tr>\n",
       "  </tbody>\n",
       "</table>\n",
       "</div>"
      ],
      "text/plain": [
       "            Recency     Frequency      Monetary\n",
       "count  58977.000000  58977.000000  58977.000000\n",
       "mean     233.297726      1.023195    126.207513\n",
       "std      150.928745      0.169494     91.356966\n",
       "min        0.000000      1.000000     10.070000\n",
       "25%      111.000000      1.000000     61.790000\n",
       "50%      216.000000      1.000000     99.900000\n",
       "75%      343.000000      1.000000    163.970000\n",
       "max      601.000000     11.000000   1236.760000"
      ]
     },
     "execution_count": 19,
     "metadata": {},
     "output_type": "execute_result"
    }
   ],
   "source": [
    "rfm_df[['Recency', 'Frequency', 'Monetary']].describe()"
   ]
  },
  {
   "cell_type": "code",
   "execution_count": 20,
   "id": "53aefc8d",
   "metadata": {
    "ExecuteTime": {
     "end_time": "2023-05-12T13:27:38.656170Z",
     "start_time": "2023-05-12T13:27:38.173557Z"
    },
    "colab": {
     "base_uri": "https://localhost:8080/",
     "height": 238
    },
    "executionInfo": {
     "elapsed": 47,
     "status": "ok",
     "timestamp": 1683876970416,
     "user": {
      "displayName": "Muhammad Rafi",
      "userId": "02077341653276340637"
     },
     "user_tz": -420
    },
    "id": "53aefc8d",
    "outputId": "f2f76868-8ef1-4c3d-8940-53f4086a7f4f"
   },
   "outputs": [
    {
     "data": {
      "text/html": [
       "<div>\n",
       "<style scoped>\n",
       "    .dataframe tbody tr th:only-of-type {\n",
       "        vertical-align: middle;\n",
       "    }\n",
       "\n",
       "    .dataframe tbody tr th {\n",
       "        vertical-align: top;\n",
       "    }\n",
       "\n",
       "    .dataframe thead th {\n",
       "        text-align: right;\n",
       "    }\n",
       "</style>\n",
       "<table border=\"1\" class=\"dataframe\">\n",
       "  <thead>\n",
       "    <tr style=\"text-align: right;\">\n",
       "      <th></th>\n",
       "      <th>Recency</th>\n",
       "      <th>Frequency</th>\n",
       "      <th>Monetary</th>\n",
       "    </tr>\n",
       "  </thead>\n",
       "  <tbody>\n",
       "    <tr>\n",
       "      <th>mode</th>\n",
       "      <td>127.000000</td>\n",
       "      <td>1.000000</td>\n",
       "      <td>77.570000</td>\n",
       "    </tr>\n",
       "    <tr>\n",
       "      <th>range</th>\n",
       "      <td>601.000000</td>\n",
       "      <td>10.000000</td>\n",
       "      <td>1226.690000</td>\n",
       "    </tr>\n",
       "    <tr>\n",
       "      <th>variance</th>\n",
       "      <td>22779.486151</td>\n",
       "      <td>0.028728</td>\n",
       "      <td>0.723857</td>\n",
       "    </tr>\n",
       "    <tr>\n",
       "      <th>coefficient_of_variant</th>\n",
       "      <td>0.646931</td>\n",
       "      <td>0.165650</td>\n",
       "      <td>0.723857</td>\n",
       "    </tr>\n",
       "    <tr>\n",
       "      <th>skewness</th>\n",
       "      <td>0.414697</td>\n",
       "      <td>11.350425</td>\n",
       "      <td>1.703513</td>\n",
       "    </tr>\n",
       "    <tr>\n",
       "      <th>kurtosis</th>\n",
       "      <td>-0.767658</td>\n",
       "      <td>293.664038</td>\n",
       "      <td>4.124920</td>\n",
       "    </tr>\n",
       "  </tbody>\n",
       "</table>\n",
       "</div>"
      ],
      "text/plain": [
       "                             Recency   Frequency     Monetary\n",
       "mode                      127.000000    1.000000    77.570000\n",
       "range                     601.000000   10.000000  1226.690000\n",
       "variance                22779.486151    0.028728     0.723857\n",
       "coefficient_of_variant      0.646931    0.165650     0.723857\n",
       "skewness                    0.414697   11.350425     1.703513\n",
       "kurtosis                   -0.767658  293.664038     4.124920"
      ]
     },
     "execution_count": 20,
     "metadata": {},
     "output_type": "execute_result"
    }
   ],
   "source": [
    "#modus data\n",
    "mode_recency = statistics.mode(rfm_df['Recency'])\n",
    "mode_frequency = statistics.mode(rfm_df['Frequency'])\n",
    "mode_monetary = statistics.mode(rfm_df['Monetary'])\n",
    "\n",
    "#menghitung range\n",
    "#range=max-min\n",
    "range_recency = max(rfm_df['Recency'])-min(rfm_df['Recency'])\n",
    "range_frequency = max(rfm_df['Frequency'])-min(rfm_df['Frequency'])\n",
    "range_monetary = max(rfm_df['Monetary'])-min(rfm_df['Monetary'])\n",
    "\n",
    "#menghitung variance\n",
    "var_recency = statistics.variance(rfm_df['Recency'])\n",
    "var_frequency = statistics.variance(rfm_df['Frequency'])\n",
    "var_monetary = statistics.variance(rfm_df['Monetary'])\n",
    "\n",
    "#menghitung coefficient of variation\n",
    "#cov=stdev/mean\n",
    "cov_recency = np.std(rfm_df['Recency'])/np.mean(rfm_df['Recency'])\n",
    "cov_frequency = np.std(rfm_df['Frequency'])/np.mean(rfm_df['Frequency'])\n",
    "cov_monetary = np.std(rfm_df['Monetary'])/np.mean(rfm_df['Monetary'])\n",
    "\n",
    "#menghitung skewness\n",
    "skewness = rfm_df.skew()\n",
    "#membuat skewness menjadi data frame degan nama kolom variable dan skewness\n",
    "#urutan row: delivery_time, payment_installments, payment_value\n",
    "skewness = pd.DataFrame(skewness)\n",
    "skewness.reset_index(inplace=True)\n",
    "skewness.columns=['varible','skewness']\n",
    "\n",
    "#menghitung kurtosis\n",
    "df_kurtosis = rfm_df.kurtosis()\n",
    "#membuat kurtosis menjadi data frame degan nama kolom variable dan kurtosis\n",
    "#urutan row: delivery_time, payment_installments, payment_value\n",
    "df_kurtosis = pd.DataFrame(df_kurtosis)\n",
    "df_kurtosis.reset_index(inplace=True)\n",
    "df_kurtosis.columns=['variable','kurtosis']\n",
    "\n",
    "#mengumpulkan parameter descriptive statistics dalam sebuah list\n",
    "des_parameter = [(mode_recency, mode_frequency, mode_monetary),\n",
    "                 (range_recency,range_frequency,range_monetary),\n",
    "                 (var_recency, var_frequency, cov_monetary),\n",
    "                 (cov_recency,cov_frequency,cov_monetary),\n",
    "                 (skewness['skewness'].loc[0],skewness['skewness'].loc[1],skewness['skewness'].loc[2]),\n",
    "                 (df_kurtosis['kurtosis'].loc[0], df_kurtosis['kurtosis'].loc[1], df_kurtosis['kurtosis'].loc[2])]\n",
    "\n",
    "#membuat dataframe descriptive statistics kedua\n",
    "df_des2 = pd.DataFrame(des_parameter,\n",
    "                      index=('mode','range','variance','coefficient_of_variant','skewness','kurtosis'),\n",
    "                      columns=('Recency', 'Frequency','Monetary'))\n",
    "df_des2"
   ]
  },
  {
   "cell_type": "code",
   "execution_count": 21,
   "id": "c8c6a449",
   "metadata": {
    "ExecuteTime": {
     "end_time": "2023-05-12T13:27:41.945541Z",
     "start_time": "2023-05-12T13:27:38.659334Z"
    },
    "colab": {
     "base_uri": "https://localhost:8080/",
     "height": 1000
    },
    "executionInfo": {
     "elapsed": 3914,
     "status": "ok",
     "timestamp": 1683876974294,
     "user": {
      "displayName": "Muhammad Rafi",
      "userId": "02077341653276340637"
     },
     "user_tz": -420
    },
    "id": "c8c6a449",
    "outputId": "db1abb82-6103-4b2a-9b67-9214fd7536b6"
   },
   "outputs": [
    {
     "data": {
      "image/png": "[encoded data removed]",
      "text/plain": [
       "<Figure size 1200x1500 with 6 Axes>"
      ]
     },
     "metadata": {},
     "output_type": "display_data"
    }
   ],
   "source": [
    "fig, axes = plt.subplots(3, 2, figsize=(12, 15))\n",
    "\n",
    "# Histogram R_rank\n",
    "sns.histplot(rfm_df['R_rank'], kde=True, ax=axes[0, 0])\n",
    "axes[0, 0].set_title('Histogram of R_rank')\n",
    "\n",
    "# Q-Q plot R_rank\n",
    "stats.probplot(rfm_df['R_rank'], dist='norm', plot=axes[0, 1])\n",
    "axes[0, 1].set_title('Q-Q plot of R_rank')\n",
    "\n",
    "# Histogram F_rank\n",
    "sns.histplot(rfm_df['F_rank'], kde=True, ax=axes[1, 0])\n",
    "axes[1, 0].set_title('Histogram of F_rank')\n",
    "\n",
    "# Q-Q plot F_rank\n",
    "stats.probplot(rfm_df['F_rank'], dist='norm', plot=axes[1, 1])\n",
    "axes[1, 1].set_title('Q-Q plot of F_rank')\n",
    "\n",
    "# Histogram M_rank\n",
    "sns.histplot(rfm_df['M_rank'], kde=True, ax=axes[2, 0])\n",
    "axes[2, 0].set_title('Histogram of M_rank')\n",
    "\n",
    "# Q-Q plot M_rank\n",
    "stats.probplot(rfm_df['M_rank'], dist='norm', plot=axes[2, 1])\n",
    "axes[2, 1].set_title('Q-Q plot of M_rank')\n",
    "\n",
    "plt.tight_layout()\n",
    "plt.show()"
   ]
  },
  {
   "cell_type": "code",
   "execution_count": 22,
   "id": "b0b8a17d",
   "metadata": {},
   "outputs": [
    {
     "name": "stdout",
     "output_type": "stream",
     "text": [
      "Skewness F_rank box cox: 9.148852448270198\n",
      "Skewness M_rank box cox: 0.5778081804541244\n",
      "Skewness R_rank box cox: -0.4329862523074099\n"
     ]
    }
   ],
   "source": [
    "# Memeriksa skewness dari kolom F_rank\n",
    "skewness_frank_ = pd.Series(rfm_df['F_rank']).skew()\n",
    "\n",
    "# Memeriksa skewness dari kolom M_rank\n",
    "skewness_mrank_ = pd.Series(rfm_df['M_rank']).skew()\n",
    "\n",
    "# Memeriksa skewness dari kolom R_rank\n",
    "skewness_rrank_ = pd.Series(rfm_df['R_rank']).skew()\n",
    "\n",
    "print(\"Skewness F_rank box cox:\", skewness_frank_)\n",
    "print(\"Skewness M_rank box cox:\", skewness_mrank_)\n",
    "print(\"Skewness R_rank box cox:\", skewness_rrank_)"
   ]
  },
  {
   "attachments": {},
   "cell_type": "markdown",
   "id": "9835178d",
   "metadata": {
    "id": "9835178d"
   },
   "source": [
    "Jika berdasarkan informasi diatas, didapatkan bahwa fitur Frekuensi memiliki sejumlah outlier serta nilai skewness dari variabel ini diluar dari rentang -2 hingga 2. Hal ini menunjukkan bahwa kedua variabel tersebut memiliki data yang terdistribusi tidak normal."
   ]
  },
  {
   "attachments": {},
   "cell_type": "markdown",
   "id": "75c045ea",
   "metadata": {
    "id": "75c045ea"
   },
   "source": [
    "**Box Cox Transformation**"
   ]
  },
  {
   "attachments": {},
   "cell_type": "markdown",
   "id": "30cba210",
   "metadata": {
    "id": "30cba210"
   },
   "source": [
    "Disini kita akan melakukan tranformasi untuk mengantisipasi atau meminimalisir skewness dari fitur frekuensi. Namun kita akan menerapkan Box-Cox Transformation pada seluruh fitur dari RFM, hal ini dilakukan karena ke-3 variabel ini merupakan satu kesatuan sehingga kita akan treat ke-3 tersebut dengan hal yang sama.\n",
    "\n",
    "Pertanyaan-nya Apa itu `Box-Cox Transformation`?\n",
    "\n",
    "Box-Cox Transformation adalah metode statistik yang digunakan untuk mentransformasikan data yang tidak terdistribusi normal menjadi lebih mendekati distribusi normal. Transformasi ini berguna dalam beberapa analisis statistik yang mengasumsikan asumsi normalitas.\n",
    "\n",
    "Apa tujuan penggunaan `Box-Cox Transformation`?\n",
    "\n",
    "- Tujuan utama dari transformasi ini adalah untuk mengurangi skewness atau kemiringan dalam distribusi data, sehingga memperbaiki asumsi distribusi normal yang menjadi dasar dari K-Means.\n",
    "\n",
    "- Meningkatkan interpretasi statistik: Dengan mentransformasi data yang tidak terdistribusi normal menjadi lebih mendekati distribusi normal, interpretasi statistik seperti mean, standard deviation, dan lainnya menjadi lebih bermakna.\n",
    "\n",
    "- K-Means pada data yang sudah di-transformasi akan menggunakan distribusi yang lebih simetris dan mendekati normal, sehingga dapat menghasilkan cluster yang lebih baik."
   ]
  },
  {
   "cell_type": "code",
   "execution_count": 23,
   "id": "fbe85264",
   "metadata": {
    "ExecuteTime": {
     "end_time": "2023-05-12T13:27:41.975471Z",
     "start_time": "2023-05-12T13:27:41.947509Z"
    },
    "colab": {
     "base_uri": "https://localhost:8080/",
     "height": 424
    },
    "executionInfo": {
     "elapsed": 48,
     "status": "ok",
     "timestamp": 1683876974296,
     "user": {
      "displayName": "Muhammad Rafi",
      "userId": "02077341653276340637"
     },
     "user_tz": -420
    },
    "id": "fbe85264",
    "outputId": "ba458efc-ba79-4bd4-a1a1-d50eceb64beb"
   },
   "outputs": [
    {
     "data": {
      "text/html": [
       "<div>\n",
       "<style scoped>\n",
       "    .dataframe tbody tr th:only-of-type {\n",
       "        vertical-align: middle;\n",
       "    }\n",
       "\n",
       "    .dataframe tbody tr th {\n",
       "        vertical-align: top;\n",
       "    }\n",
       "\n",
       "    .dataframe thead th {\n",
       "        text-align: right;\n",
       "    }\n",
       "</style>\n",
       "<table border=\"1\" class=\"dataframe\">\n",
       "  <thead>\n",
       "    <tr style=\"text-align: right;\">\n",
       "      <th></th>\n",
       "      <th>customer_unique_id</th>\n",
       "      <th>Recency</th>\n",
       "      <th>Frequency</th>\n",
       "      <th>Monetary</th>\n",
       "      <th>R_rank</th>\n",
       "      <th>F_rank</th>\n",
       "      <th>M_rank</th>\n",
       "    </tr>\n",
       "  </thead>\n",
       "  <tbody>\n",
       "    <tr>\n",
       "      <th>0</th>\n",
       "      <td>0000366f3b9a7992bf8c76cfdf3221e2</td>\n",
       "      <td>111</td>\n",
       "      <td>1</td>\n",
       "      <td>141.90</td>\n",
       "      <td>488.0</td>\n",
       "      <td>1.0</td>\n",
       "      <td>8607.0</td>\n",
       "    </tr>\n",
       "    <tr>\n",
       "      <th>1</th>\n",
       "      <td>0000f46a3911fa3c0805444483337064</td>\n",
       "      <td>537</td>\n",
       "      <td>1</td>\n",
       "      <td>86.22</td>\n",
       "      <td>65.0</td>\n",
       "      <td>1.0</td>\n",
       "      <td>4797.0</td>\n",
       "    </tr>\n",
       "    <tr>\n",
       "      <th>2</th>\n",
       "      <td>0004bd2a26a76fe21f786e4fbd80607f</td>\n",
       "      <td>146</td>\n",
       "      <td>1</td>\n",
       "      <td>166.98</td>\n",
       "      <td>456.0</td>\n",
       "      <td>1.0</td>\n",
       "      <td>10199.0</td>\n",
       "    </tr>\n",
       "    <tr>\n",
       "      <th>3</th>\n",
       "      <td>0005e1862207bf6ccc02e4228effd9a0</td>\n",
       "      <td>543</td>\n",
       "      <td>1</td>\n",
       "      <td>150.12</td>\n",
       "      <td>59.0</td>\n",
       "      <td>1.0</td>\n",
       "      <td>9150.0</td>\n",
       "    </tr>\n",
       "    <tr>\n",
       "      <th>4</th>\n",
       "      <td>0006fdc98a402fceb4eb0ee528f6a8d4</td>\n",
       "      <td>407</td>\n",
       "      <td>1</td>\n",
       "      <td>29.00</td>\n",
       "      <td>195.0</td>\n",
       "      <td>1.0</td>\n",
       "      <td>532.0</td>\n",
       "    </tr>\n",
       "    <tr>\n",
       "      <th>...</th>\n",
       "      <td>...</td>\n",
       "      <td>...</td>\n",
       "      <td>...</td>\n",
       "      <td>...</td>\n",
       "      <td>...</td>\n",
       "      <td>...</td>\n",
       "      <td>...</td>\n",
       "    </tr>\n",
       "    <tr>\n",
       "      <th>58972</th>\n",
       "      <td>fff96bc586f78b1f070da28c4977e810</td>\n",
       "      <td>14</td>\n",
       "      <td>1</td>\n",
       "      <td>63.42</td>\n",
       "      <td>584.0</td>\n",
       "      <td>1.0</td>\n",
       "      <td>3047.0</td>\n",
       "    </tr>\n",
       "    <tr>\n",
       "      <th>58973</th>\n",
       "      <td>fffb09418989a0dbff854a28163e47c6</td>\n",
       "      <td>253</td>\n",
       "      <td>1</td>\n",
       "      <td>73.16</td>\n",
       "      <td>349.0</td>\n",
       "      <td>1.0</td>\n",
       "      <td>3818.0</td>\n",
       "    </tr>\n",
       "    <tr>\n",
       "      <th>58974</th>\n",
       "      <td>fffea47cd6d3cc0a88bd621562a9d061</td>\n",
       "      <td>262</td>\n",
       "      <td>1</td>\n",
       "      <td>84.58</td>\n",
       "      <td>340.0</td>\n",
       "      <td>1.0</td>\n",
       "      <td>4682.0</td>\n",
       "    </tr>\n",
       "    <tr>\n",
       "      <th>58975</th>\n",
       "      <td>ffff5962728ec6157033ef9805bacc48</td>\n",
       "      <td>119</td>\n",
       "      <td>1</td>\n",
       "      <td>133.69</td>\n",
       "      <td>480.0</td>\n",
       "      <td>1.0</td>\n",
       "      <td>8027.0</td>\n",
       "    </tr>\n",
       "    <tr>\n",
       "      <th>58976</th>\n",
       "      <td>ffffd2657e2aad2907e67c3e9daecbeb</td>\n",
       "      <td>483</td>\n",
       "      <td>1</td>\n",
       "      <td>71.56</td>\n",
       "      <td>119.0</td>\n",
       "      <td>1.0</td>\n",
       "      <td>3697.0</td>\n",
       "    </tr>\n",
       "  </tbody>\n",
       "</table>\n",
       "<p>58977 rows × 7 columns</p>\n",
       "</div>"
      ],
      "text/plain": [
       "                     customer_unique_id  Recency  Frequency  Monetary  R_rank  \\\n",
       "0      0000366f3b9a7992bf8c76cfdf3221e2      111          1    141.90   488.0   \n",
       "1      0000f46a3911fa3c0805444483337064      537          1     86.22    65.0   \n",
       "2      0004bd2a26a76fe21f786e4fbd80607f      146          1    166.98   456.0   \n",
       "3      0005e1862207bf6ccc02e4228effd9a0      543          1    150.12    59.0   \n",
       "4      0006fdc98a402fceb4eb0ee528f6a8d4      407          1     29.00   195.0   \n",
       "...                                 ...      ...        ...       ...     ...   \n",
       "58972  fff96bc586f78b1f070da28c4977e810       14          1     63.42   584.0   \n",
       "58973  fffb09418989a0dbff854a28163e47c6      253          1     73.16   349.0   \n",
       "58974  fffea47cd6d3cc0a88bd621562a9d061      262          1     84.58   340.0   \n",
       "58975  ffff5962728ec6157033ef9805bacc48      119          1    133.69   480.0   \n",
       "58976  ffffd2657e2aad2907e67c3e9daecbeb      483          1     71.56   119.0   \n",
       "\n",
       "       F_rank   M_rank  \n",
       "0         1.0   8607.0  \n",
       "1         1.0   4797.0  \n",
       "2         1.0  10199.0  \n",
       "3         1.0   9150.0  \n",
       "4         1.0    532.0  \n",
       "...       ...      ...  \n",
       "58972     1.0   3047.0  \n",
       "58973     1.0   3818.0  \n",
       "58974     1.0   4682.0  \n",
       "58975     1.0   8027.0  \n",
       "58976     1.0   3697.0  \n",
       "\n",
       "[58977 rows x 7 columns]"
      ]
     },
     "execution_count": 23,
     "metadata": {},
     "output_type": "execute_result"
    }
   ],
   "source": [
    "rfm_df"
   ]
  },
  {
   "cell_type": "code",
   "execution_count": 24,
   "id": "9d865a85",
   "metadata": {
    "ExecuteTime": {
     "end_time": "2023-05-12T13:27:42.260946Z",
     "start_time": "2023-05-12T13:27:41.978413Z"
    },
    "executionInfo": {
     "elapsed": 46,
     "status": "ok",
     "timestamp": 1683876974298,
     "user": {
      "displayName": "Muhammad Rafi",
      "userId": "02077341653276340637"
     },
     "user_tz": -420
    },
    "id": "9d865a85"
   },
   "outputs": [],
   "source": [
    "import scipy.stats as stats\n",
    "\n",
    "# Melakukan Box-Cox transform pada kolom F_rank\n",
    "rfm_df['F_rank_boxcox'], _ = stats.boxcox(rfm_df['F_rank'])\n",
    "\n",
    "# Melakukan Box-Cox transform pada kolom M_rank\n",
    "rfm_df['M_rank_boxcox'], _ = stats.boxcox(rfm_df['M_rank'])\n",
    "\n",
    "# Melakukan Box-Cox transform pada kolom R_rank\n",
    "rfm_df['R_rank_boxcox'], _ = stats.boxcox(rfm_df['R_rank'])"
   ]
  },
  {
   "cell_type": "code",
   "execution_count": 25,
   "id": "0470e8ce",
   "metadata": {
    "ExecuteTime": {
     "end_time": "2023-05-12T13:27:44.228952Z",
     "start_time": "2023-05-12T13:27:42.263914Z"
    },
    "colab": {
     "base_uri": "https://localhost:8080/",
     "height": 507
    },
    "executionInfo": {
     "elapsed": 1511,
     "status": "ok",
     "timestamp": 1683876975765,
     "user": {
      "displayName": "Muhammad Rafi",
      "userId": "02077341653276340637"
     },
     "user_tz": -420
    },
    "id": "0470e8ce",
    "outputId": "85002cfc-fc5b-43d3-cbe4-0f2c1adf41cf"
   },
   "outputs": [
    {
     "data": {
      "image/png": "[encoded data removed]",
      "text/plain": [
       "<Figure size 1200x500 with 3 Axes>"
      ]
     },
     "metadata": {},
     "output_type": "display_data"
    }
   ],
   "source": [
    "fig, axes = plt.subplots(1, 3, figsize=(12, 5))\n",
    "\n",
    "# Grafik pertama\n",
    "sns.histplot(rfm_df['F_rank_boxcox'], kde=True, ax=axes[0])\n",
    "axes[0].set_title('Histogram of F_rank_boxcox')\n",
    "\n",
    "# Grafik kedua\n",
    "sns.histplot(rfm_df['M_rank_boxcox'], kde=True, ax=axes[1])\n",
    "axes[1].set_title('Histogram of M_rank_boxcox')\n",
    "\n",
    "# Grafik ketiga\n",
    "sns.histplot(rfm_df['R_rank_boxcox'], kde=True, ax=axes[2])\n",
    "axes[2].set_title('Histogram of R_rank_boxcox')\n",
    "\n",
    "plt.tight_layout()\n",
    "plt.show()"
   ]
  },
  {
   "cell_type": "code",
   "execution_count": 26,
   "id": "16573651",
   "metadata": {
    "ExecuteTime": {
     "end_time": "2023-05-12T13:27:44.244898Z",
     "start_time": "2023-05-12T13:27:44.231928Z"
    },
    "colab": {
     "base_uri": "https://localhost:8080/"
    },
    "executionInfo": {
     "elapsed": 639,
     "status": "ok",
     "timestamp": 1683876976394,
     "user": {
      "displayName": "Muhammad Rafi",
      "userId": "02077341653276340637"
     },
     "user_tz": -420
    },
    "id": "16573651",
    "outputId": "2a7b36e9-c0e5-4a53-f98a-af754146788a"
   },
   "outputs": [
    {
     "name": "stdout",
     "output_type": "stream",
     "text": [
      "Skewness F_rank box cox: 6.640224760900212\n",
      "Skewness M_rank box cox: -0.12548244894522886\n",
      "Skewness R_rank box cox: -0.290838755414099\n"
     ]
    }
   ],
   "source": [
    "# Memeriksa skewness dari kolom F_rank\n",
    "skewness_frank = pd.Series(rfm_df['F_rank_boxcox']).skew()\n",
    "\n",
    "# Memeriksa skewness dari kolom M_rank\n",
    "skewness_mrank = pd.Series(rfm_df['M_rank_boxcox']).skew()\n",
    "\n",
    "# Memeriksa skewness dari kolom R_rank\n",
    "skewness_rrank = pd.Series(rfm_df['R_rank_boxcox']).skew()\n",
    "\n",
    "print(\"Skewness F_rank box cox:\", skewness_frank)\n",
    "print(\"Skewness M_rank box cox:\", skewness_mrank)\n",
    "print(\"Skewness R_rank box cox:\", skewness_rrank)"
   ]
  },
  {
   "cell_type": "code",
   "execution_count": 27,
   "id": "ZsoY-cmOAfsx",
   "metadata": {
    "ExecuteTime": {
     "end_time": "2023-05-12T13:27:44.370481Z",
     "start_time": "2023-05-12T13:27:44.247886Z"
    },
    "colab": {
     "base_uri": "https://localhost:8080/"
    },
    "executionInfo": {
     "elapsed": 6,
     "status": "ok",
     "timestamp": 1683878979474,
     "user": {
      "displayName": "Muhammad Rafi",
      "userId": "02077341653276340637"
     },
     "user_tz": -420
    },
    "id": "ZsoY-cmOAfsx",
    "outputId": "724caa65-648a-4b7a-9a98-2426f244c441"
   },
   "outputs": [
    {
     "data": {
      "text/plain": [
       "1.0    57724\n",
       "2.0     1167\n",
       "3.0       70\n",
       "4.0       10\n",
       "5.0        4\n",
       "6.0        1\n",
       "7.0        1\n",
       "Name: F_rank, dtype: int64"
      ]
     },
     "execution_count": 27,
     "metadata": {},
     "output_type": "execute_result"
    }
   ],
   "source": [
    "rfm_df.F_rank.value_counts()"
   ]
  },
  {
   "cell_type": "code",
   "execution_count": 28,
   "id": "LtUmzENgAaL2",
   "metadata": {
    "ExecuteTime": {
     "end_time": "2023-05-12T13:27:44.480254Z",
     "start_time": "2023-05-12T13:27:44.374460Z"
    },
    "colab": {
     "base_uri": "https://localhost:8080/"
    },
    "executionInfo": {
     "elapsed": 20,
     "status": "ok",
     "timestamp": 1683878964875,
     "user": {
      "displayName": "Muhammad Rafi",
      "userId": "02077341653276340637"
     },
     "user_tz": -420
    },
    "id": "LtUmzENgAaL2",
    "outputId": "b10b76c9-784a-4e73-a5db-2bdc0ea2509c"
   },
   "outputs": [
    {
     "data": {
      "text/plain": [
       "0.000000    57724\n",
       "0.015427     1253\n",
       "Name: F_rank_boxcox, dtype: int64"
      ]
     },
     "execution_count": 28,
     "metadata": {},
     "output_type": "execute_result"
    }
   ],
   "source": [
    "rfm_df.F_rank_boxcox.value_counts()"
   ]
  },
  {
   "attachments": {},
   "cell_type": "markdown",
   "id": "c67351c5",
   "metadata": {
    "id": "c67351c5"
   },
   "source": [
    "Setelah dilakukan transformasi box cox, skewness dari kedua variabel tersebut menjadi lebih baik. Namun untuk variabel F masih terlihat belum terdistribusi secara normal. `Mengapa hal ini terjadi?`\n",
    "\n",
    "Karena seperti yang sudah kita ketahui sebelumnya bahwa pada variabel F ini hanya terdapat 7 unique data, namun di dominasi dengan data 1 Frekuensi yang memiliki proporsi sebesar 98% dari keseluruhan data. Sehingga dengan demikian hal ini kita artikan sebagai data tersebut secara natural memang tidak terdistribusi secara normal.\n",
    "\n",
    "Sedangkan pada variabel M terlihat bahwa data memiliki skewness di dalam rentang -2 dan 2 sehingga dapat dikategorikan menjadi terdistribusi dengan normal."
   ]
  },
  {
   "cell_type": "code",
   "execution_count": 29,
   "id": "da555cdf",
   "metadata": {
    "ExecuteTime": {
     "end_time": "2023-05-12T13:27:44.587954Z",
     "start_time": "2023-05-12T13:27:44.482254Z"
    },
    "colab": {
     "base_uri": "https://localhost:8080/",
     "height": 206
    },
    "executionInfo": {
     "elapsed": 37,
     "status": "ok",
     "timestamp": 1683876976401,
     "user": {
      "displayName": "Muhammad Rafi",
      "userId": "02077341653276340637"
     },
     "user_tz": -420
    },
    "id": "da555cdf",
    "outputId": "f581e2fd-9c58-4492-c678-2ed9def7f472"
   },
   "outputs": [
    {
     "data": {
      "text/html": [
       "<div>\n",
       "<style scoped>\n",
       "    .dataframe tbody tr th:only-of-type {\n",
       "        vertical-align: middle;\n",
       "    }\n",
       "\n",
       "    .dataframe tbody tr th {\n",
       "        vertical-align: top;\n",
       "    }\n",
       "\n",
       "    .dataframe thead th {\n",
       "        text-align: right;\n",
       "    }\n",
       "</style>\n",
       "<table border=\"1\" class=\"dataframe\">\n",
       "  <thead>\n",
       "    <tr style=\"text-align: right;\">\n",
       "      <th></th>\n",
       "      <th>customer_unique_id</th>\n",
       "      <th>Recency</th>\n",
       "      <th>Frequency</th>\n",
       "      <th>Monetary</th>\n",
       "      <th>R_rank</th>\n",
       "      <th>F_rank</th>\n",
       "      <th>M_rank</th>\n",
       "      <th>F_rank_boxcox</th>\n",
       "      <th>M_rank_boxcox</th>\n",
       "      <th>R_rank_boxcox</th>\n",
       "    </tr>\n",
       "  </thead>\n",
       "  <tbody>\n",
       "    <tr>\n",
       "      <th>0</th>\n",
       "      <td>0000366f3b9a7992bf8c76cfdf3221e2</td>\n",
       "      <td>111</td>\n",
       "      <td>1</td>\n",
       "      <td>141.90</td>\n",
       "      <td>488.0</td>\n",
       "      <td>1.0</td>\n",
       "      <td>8607.0</td>\n",
       "      <td>0.0</td>\n",
       "      <td>131.946960</td>\n",
       "      <td>1238.593383</td>\n",
       "    </tr>\n",
       "    <tr>\n",
       "      <th>1</th>\n",
       "      <td>0000f46a3911fa3c0805444483337064</td>\n",
       "      <td>537</td>\n",
       "      <td>1</td>\n",
       "      <td>86.22</td>\n",
       "      <td>65.0</td>\n",
       "      <td>1.0</td>\n",
       "      <td>4797.0</td>\n",
       "      <td>0.0</td>\n",
       "      <td>100.711449</td>\n",
       "      <td>114.723274</td>\n",
       "    </tr>\n",
       "    <tr>\n",
       "      <th>2</th>\n",
       "      <td>0004bd2a26a76fe21f786e4fbd80607f</td>\n",
       "      <td>146</td>\n",
       "      <td>1</td>\n",
       "      <td>166.98</td>\n",
       "      <td>456.0</td>\n",
       "      <td>1.0</td>\n",
       "      <td>10199.0</td>\n",
       "      <td>0.0</td>\n",
       "      <td>142.677459</td>\n",
       "      <td>1143.507138</td>\n",
       "    </tr>\n",
       "    <tr>\n",
       "      <th>3</th>\n",
       "      <td>0005e1862207bf6ccc02e4228effd9a0</td>\n",
       "      <td>543</td>\n",
       "      <td>1</td>\n",
       "      <td>150.12</td>\n",
       "      <td>59.0</td>\n",
       "      <td>1.0</td>\n",
       "      <td>9150.0</td>\n",
       "      <td>0.0</td>\n",
       "      <td>135.720240</td>\n",
       "      <td>102.273155</td>\n",
       "    </tr>\n",
       "    <tr>\n",
       "      <th>4</th>\n",
       "      <td>0006fdc98a402fceb4eb0ee528f6a8d4</td>\n",
       "      <td>407</td>\n",
       "      <td>1</td>\n",
       "      <td>29.00</td>\n",
       "      <td>195.0</td>\n",
       "      <td>1.0</td>\n",
       "      <td>532.0</td>\n",
       "      <td>0.0</td>\n",
       "      <td>35.765973</td>\n",
       "      <td>420.238497</td>\n",
       "    </tr>\n",
       "  </tbody>\n",
       "</table>\n",
       "</div>"
      ],
      "text/plain": [
       "                 customer_unique_id  Recency  Frequency  Monetary  R_rank  \\\n",
       "0  0000366f3b9a7992bf8c76cfdf3221e2      111          1    141.90   488.0   \n",
       "1  0000f46a3911fa3c0805444483337064      537          1     86.22    65.0   \n",
       "2  0004bd2a26a76fe21f786e4fbd80607f      146          1    166.98   456.0   \n",
       "3  0005e1862207bf6ccc02e4228effd9a0      543          1    150.12    59.0   \n",
       "4  0006fdc98a402fceb4eb0ee528f6a8d4      407          1     29.00   195.0   \n",
       "\n",
       "   F_rank   M_rank  F_rank_boxcox  M_rank_boxcox  R_rank_boxcox  \n",
       "0     1.0   8607.0            0.0     131.946960    1238.593383  \n",
       "1     1.0   4797.0            0.0     100.711449     114.723274  \n",
       "2     1.0  10199.0            0.0     142.677459    1143.507138  \n",
       "3     1.0   9150.0            0.0     135.720240     102.273155  \n",
       "4     1.0    532.0            0.0      35.765973     420.238497  "
      ]
     },
     "execution_count": 29,
     "metadata": {},
     "output_type": "execute_result"
    }
   ],
   "source": [
    "rfm_df.head()"
   ]
  },
  {
   "attachments": {},
   "cell_type": "markdown",
   "id": "582e054a",
   "metadata": {
    "id": "582e054a"
   },
   "source": [
    "Jadi disini kita telah membuat sebuah tabel baru yakni `rfm_df` yang merupakan tabel yang akan digunakan sebagai RFM Analysis, nantinya kedua tabel ini dapat digabungkan untuk melakukan analisa lebih lanjut untuk masing masing dari segmentasi yang akan terbentuk dengan menghubungkan nya pada `customer_unique_id`."
   ]
  },
  {
   "attachments": {},
   "cell_type": "markdown",
   "id": "317a578b",
   "metadata": {
    "id": "317a578b"
   },
   "source": [
    "## RFM Domain Knowledge"
   ]
  },
  {
   "cell_type": "code",
   "execution_count": 30,
   "id": "85b447bc",
   "metadata": {
    "ExecuteTime": {
     "end_time": "2023-05-12T13:27:44.682514Z",
     "start_time": "2023-05-12T13:27:44.590948Z"
    },
    "colab": {
     "base_uri": "https://localhost:8080/",
     "height": 206
    },
    "executionInfo": {
     "elapsed": 38,
     "status": "ok",
     "timestamp": 1683876976406,
     "user": {
      "displayName": "Muhammad Rafi",
      "userId": "02077341653276340637"
     },
     "user_tz": -420
    },
    "id": "85b447bc",
    "outputId": "821d1d5f-1c29-449a-cccc-b5de8ebfd03b"
   },
   "outputs": [
    {
     "data": {
      "text/html": [
       "<div>\n",
       "<style scoped>\n",
       "    .dataframe tbody tr th:only-of-type {\n",
       "        vertical-align: middle;\n",
       "    }\n",
       "\n",
       "    .dataframe tbody tr th {\n",
       "        vertical-align: top;\n",
       "    }\n",
       "\n",
       "    .dataframe thead th {\n",
       "        text-align: right;\n",
       "    }\n",
       "</style>\n",
       "<table border=\"1\" class=\"dataframe\">\n",
       "  <thead>\n",
       "    <tr style=\"text-align: right;\">\n",
       "      <th></th>\n",
       "      <th>customer_unique_id</th>\n",
       "      <th>R_rank</th>\n",
       "      <th>F_rank</th>\n",
       "      <th>M_rank</th>\n",
       "    </tr>\n",
       "  </thead>\n",
       "  <tbody>\n",
       "    <tr>\n",
       "      <th>0</th>\n",
       "      <td>0000366f3b9a7992bf8c76cfdf3221e2</td>\n",
       "      <td>488.0</td>\n",
       "      <td>1.0</td>\n",
       "      <td>8607.0</td>\n",
       "    </tr>\n",
       "    <tr>\n",
       "      <th>1</th>\n",
       "      <td>0000f46a3911fa3c0805444483337064</td>\n",
       "      <td>65.0</td>\n",
       "      <td>1.0</td>\n",
       "      <td>4797.0</td>\n",
       "    </tr>\n",
       "    <tr>\n",
       "      <th>2</th>\n",
       "      <td>0004bd2a26a76fe21f786e4fbd80607f</td>\n",
       "      <td>456.0</td>\n",
       "      <td>1.0</td>\n",
       "      <td>10199.0</td>\n",
       "    </tr>\n",
       "    <tr>\n",
       "      <th>3</th>\n",
       "      <td>0005e1862207bf6ccc02e4228effd9a0</td>\n",
       "      <td>59.0</td>\n",
       "      <td>1.0</td>\n",
       "      <td>9150.0</td>\n",
       "    </tr>\n",
       "    <tr>\n",
       "      <th>4</th>\n",
       "      <td>0006fdc98a402fceb4eb0ee528f6a8d4</td>\n",
       "      <td>195.0</td>\n",
       "      <td>1.0</td>\n",
       "      <td>532.0</td>\n",
       "    </tr>\n",
       "  </tbody>\n",
       "</table>\n",
       "</div>"
      ],
      "text/plain": [
       "                 customer_unique_id  R_rank  F_rank   M_rank\n",
       "0  0000366f3b9a7992bf8c76cfdf3221e2   488.0     1.0   8607.0\n",
       "1  0000f46a3911fa3c0805444483337064    65.0     1.0   4797.0\n",
       "2  0004bd2a26a76fe21f786e4fbd80607f   456.0     1.0  10199.0\n",
       "3  0005e1862207bf6ccc02e4228effd9a0    59.0     1.0   9150.0\n",
       "4  0006fdc98a402fceb4eb0ee528f6a8d4   195.0     1.0    532.0"
      ]
     },
     "execution_count": 30,
     "metadata": {},
     "output_type": "execute_result"
    }
   ],
   "source": [
    "dk = rfm_df[['customer_unique_id', 'R_rank', 'F_rank', 'M_rank']].copy()\n",
    "dk.head()"
   ]
  },
  {
   "cell_type": "code",
   "execution_count": 31,
   "id": "99566059",
   "metadata": {
    "ExecuteTime": {
     "end_time": "2023-05-12T13:27:44.776446Z",
     "start_time": "2023-05-12T13:27:44.685315Z"
    },
    "executionInfo": {
     "elapsed": 35,
     "status": "ok",
     "timestamp": 1683876976408,
     "user": {
      "displayName": "Muhammad Rafi",
      "userId": "02077341653276340637"
     },
     "user_tz": -420
    },
    "id": "99566059"
   },
   "outputs": [],
   "source": [
    "r_labels = range(4,0,-1)\n",
    "r_quartiles = pd.qcut(dk['R_rank'], 4, labels = r_labels)\n",
    "\n",
    "f_labels = range(1,5)\n",
    "f_quartiles = pd.cut(dk['F_rank'], 4, labels = f_labels)\n",
    "\n",
    "m_labels = range(1,5)\n",
    "m_quartiles = pd.qcut(dk['M_rank'], 4, labels = m_labels)\n",
    "\n",
    "dk = dk.assign(R=r_quartiles.values)\n",
    "dk = dk.assign(F=f_quartiles.values)\n",
    "dk = dk.assign(M=m_quartiles.values)"
   ]
  },
  {
   "cell_type": "code",
   "execution_count": 32,
   "id": "700dc032",
   "metadata": {
    "ExecuteTime": {
     "end_time": "2023-05-12T13:27:45.810048Z",
     "start_time": "2023-05-12T13:27:44.779445Z"
    },
    "executionInfo": {
     "elapsed": 430,
     "status": "ok",
     "timestamp": 1683876976805,
     "user": {
      "displayName": "Muhammad Rafi",
      "userId": "02077341653276340637"
     },
     "user_tz": -420
    },
    "id": "700dc032"
   },
   "outputs": [],
   "source": [
    "def join_rfm(x): return str(x['R']) + str(x['F']) + str(x['M'])\n",
    "\n",
    "dk['RFM_Segment'] = dk.apply(join_rfm, axis=1)\n",
    "dk['RFM_Score'] = dk[['R', 'F', 'M']].sum(axis=1)"
   ]
  },
  {
   "cell_type": "code",
   "execution_count": 33,
   "id": "771157f9",
   "metadata": {
    "ExecuteTime": {
     "end_time": "2023-05-12T13:27:45.840452Z",
     "start_time": "2023-05-12T13:27:45.813051Z"
    },
    "colab": {
     "base_uri": "https://localhost:8080/"
    },
    "executionInfo": {
     "elapsed": 31,
     "status": "ok",
     "timestamp": 1683876976808,
     "user": {
      "displayName": "Muhammad Rafi",
      "userId": "02077341653276340637"
     },
     "user_tz": -420
    },
    "id": "771157f9",
    "outputId": "880e5da6-71a0-4686-b416-b7aa22bd1974"
   },
   "outputs": [
    {
     "data": {
      "text/plain": [
       "RFM_Segment\n",
       "214    3911\n",
       "312    3863\n",
       "411    3831\n",
       "113    3800\n",
       "412    3766\n",
       "213    3746\n",
       "311    3714\n",
       "111    3657\n",
       "114    3636\n",
       "313    3610\n",
       "dtype: int64"
      ]
     },
     "execution_count": 33,
     "metadata": {},
     "output_type": "execute_result"
    }
   ],
   "source": [
    "# Largest RFM Segments\n",
    "dk.groupby('RFM_Segment').size().sort_values(ascending=False)[:10]"
   ]
  },
  {
   "cell_type": "code",
   "execution_count": 34,
   "id": "b6b4c0bf",
   "metadata": {
    "ExecuteTime": {
     "end_time": "2023-05-12T13:27:45.980666Z",
     "start_time": "2023-05-12T13:27:45.842449Z"
    },
    "colab": {
     "base_uri": "https://localhost:8080/",
     "height": 206
    },
    "executionInfo": {
     "elapsed": 33,
     "status": "ok",
     "timestamp": 1683876976813,
     "user": {
      "displayName": "Muhammad Rafi",
      "userId": "02077341653276340637"
     },
     "user_tz": -420
    },
    "id": "b6b4c0bf",
    "outputId": "835859da-08da-4b1a-ac17-0abbfb47c8c9"
   },
   "outputs": [
    {
     "data": {
      "text/html": [
       "<div>\n",
       "<style scoped>\n",
       "    .dataframe tbody tr th:only-of-type {\n",
       "        vertical-align: middle;\n",
       "    }\n",
       "\n",
       "    .dataframe tbody tr th {\n",
       "        vertical-align: top;\n",
       "    }\n",
       "\n",
       "    .dataframe thead th {\n",
       "        text-align: right;\n",
       "    }\n",
       "</style>\n",
       "<table border=\"1\" class=\"dataframe\">\n",
       "  <thead>\n",
       "    <tr style=\"text-align: right;\">\n",
       "      <th></th>\n",
       "      <th>customer_unique_id</th>\n",
       "      <th>R_rank</th>\n",
       "      <th>F_rank</th>\n",
       "      <th>M_rank</th>\n",
       "      <th>R</th>\n",
       "      <th>F</th>\n",
       "      <th>M</th>\n",
       "      <th>RFM_Segment</th>\n",
       "      <th>RFM_Score</th>\n",
       "    </tr>\n",
       "  </thead>\n",
       "  <tbody>\n",
       "    <tr>\n",
       "      <th>9</th>\n",
       "      <td>000ec5bff359e1c0ad76a81a45cb598f</td>\n",
       "      <td>589.0</td>\n",
       "      <td>1.0</td>\n",
       "      <td>454.0</td>\n",
       "      <td>1</td>\n",
       "      <td>1</td>\n",
       "      <td>1</td>\n",
       "      <td>111</td>\n",
       "      <td>3</td>\n",
       "    </tr>\n",
       "    <tr>\n",
       "      <th>10</th>\n",
       "      <td>000ed48ceeb6f4bf8ad021a10a3c7b43</td>\n",
       "      <td>498.0</td>\n",
       "      <td>1.0</td>\n",
       "      <td>143.0</td>\n",
       "      <td>1</td>\n",
       "      <td>1</td>\n",
       "      <td>1</td>\n",
       "      <td>111</td>\n",
       "      <td>3</td>\n",
       "    </tr>\n",
       "    <tr>\n",
       "      <th>20</th>\n",
       "      <td>00196c4c9a3af7dd2ad10eade69c926f</td>\n",
       "      <td>569.0</td>\n",
       "      <td>1.0</td>\n",
       "      <td>1097.0</td>\n",
       "      <td>1</td>\n",
       "      <td>1</td>\n",
       "      <td>1</td>\n",
       "      <td>111</td>\n",
       "      <td>3</td>\n",
       "    </tr>\n",
       "    <tr>\n",
       "      <th>25</th>\n",
       "      <td>001a3a8e11d76c9a366c31a4aa2cc529</td>\n",
       "      <td>499.0</td>\n",
       "      <td>1.0</td>\n",
       "      <td>284.0</td>\n",
       "      <td>1</td>\n",
       "      <td>1</td>\n",
       "      <td>1</td>\n",
       "      <td>111</td>\n",
       "      <td>3</td>\n",
       "    </tr>\n",
       "    <tr>\n",
       "      <th>68</th>\n",
       "      <td>0048a779a98a7848514096ff04046079</td>\n",
       "      <td>577.0</td>\n",
       "      <td>1.0</td>\n",
       "      <td>1351.0</td>\n",
       "      <td>1</td>\n",
       "      <td>1</td>\n",
       "      <td>1</td>\n",
       "      <td>111</td>\n",
       "      <td>3</td>\n",
       "    </tr>\n",
       "  </tbody>\n",
       "</table>\n",
       "</div>"
      ],
      "text/plain": [
       "                  customer_unique_id  R_rank  F_rank  M_rank  R  F  M  \\\n",
       "9   000ec5bff359e1c0ad76a81a45cb598f   589.0     1.0   454.0  1  1  1   \n",
       "10  000ed48ceeb6f4bf8ad021a10a3c7b43   498.0     1.0   143.0  1  1  1   \n",
       "20  00196c4c9a3af7dd2ad10eade69c926f   569.0     1.0  1097.0  1  1  1   \n",
       "25  001a3a8e11d76c9a366c31a4aa2cc529   499.0     1.0   284.0  1  1  1   \n",
       "68  0048a779a98a7848514096ff04046079   577.0     1.0  1351.0  1  1  1   \n",
       "\n",
       "   RFM_Segment  RFM_Score  \n",
       "9          111          3  \n",
       "10         111          3  \n",
       "20         111          3  \n",
       "25         111          3  \n",
       "68         111          3  "
      ]
     },
     "execution_count": 34,
     "metadata": {},
     "output_type": "execute_result"
    }
   ],
   "source": [
    "# Bottom 5 rows\n",
    "dk[dk['RFM_Segment']=='111'][:5]"
   ]
  },
  {
   "cell_type": "code",
   "execution_count": 35,
   "id": "201a09a8",
   "metadata": {
    "ExecuteTime": {
     "end_time": "2023-05-12T13:27:46.073197Z",
     "start_time": "2023-05-12T13:27:45.984640Z"
    },
    "colab": {
     "base_uri": "https://localhost:8080/",
     "height": 363
    },
    "executionInfo": {
     "elapsed": 33,
     "status": "ok",
     "timestamp": 1683876976816,
     "user": {
      "displayName": "Muhammad Rafi",
      "userId": "02077341653276340637"
     },
     "user_tz": -420
    },
    "id": "201a09a8",
    "outputId": "7c91bc16-e73e-492e-d953-d5dbba62c922"
   },
   "outputs": [
    {
     "data": {
      "text/html": [
       "<div>\n",
       "<style scoped>\n",
       "    .dataframe tbody tr th:only-of-type {\n",
       "        vertical-align: middle;\n",
       "    }\n",
       "\n",
       "    .dataframe tbody tr th {\n",
       "        vertical-align: top;\n",
       "    }\n",
       "\n",
       "    .dataframe thead tr th {\n",
       "        text-align: left;\n",
       "    }\n",
       "\n",
       "    .dataframe thead tr:last-of-type th {\n",
       "        text-align: right;\n",
       "    }\n",
       "</style>\n",
       "<table border=\"1\" class=\"dataframe\">\n",
       "  <thead>\n",
       "    <tr>\n",
       "      <th></th>\n",
       "      <th>R_rank</th>\n",
       "      <th>F_rank</th>\n",
       "      <th colspan=\"2\" halign=\"left\">M_rank</th>\n",
       "    </tr>\n",
       "    <tr>\n",
       "      <th></th>\n",
       "      <th>mean</th>\n",
       "      <th>mean</th>\n",
       "      <th>mean</th>\n",
       "      <th>count</th>\n",
       "    </tr>\n",
       "    <tr>\n",
       "      <th>RFM_Score</th>\n",
       "      <th></th>\n",
       "      <th></th>\n",
       "      <th></th>\n",
       "      <th></th>\n",
       "    </tr>\n",
       "  </thead>\n",
       "  <tbody>\n",
       "    <tr>\n",
       "      <th>3</th>\n",
       "      <td>546.845775</td>\n",
       "      <td>1.001914</td>\n",
       "      <td>1499.747334</td>\n",
       "      <td>3657</td>\n",
       "    </tr>\n",
       "    <tr>\n",
       "      <th>4</th>\n",
       "      <td>491.605437</td>\n",
       "      <td>1.005353</td>\n",
       "      <td>2881.544725</td>\n",
       "      <td>7099</td>\n",
       "    </tr>\n",
       "    <tr>\n",
       "      <th>5</th>\n",
       "      <td>438.664890</td>\n",
       "      <td>1.009304</td>\n",
       "      <td>4561.869118</td>\n",
       "      <td>11071</td>\n",
       "    </tr>\n",
       "    <tr>\n",
       "      <th>6</th>\n",
       "      <td>363.645288</td>\n",
       "      <td>1.020561</td>\n",
       "      <td>6612.598660</td>\n",
       "      <td>15077</td>\n",
       "    </tr>\n",
       "    <tr>\n",
       "      <th>7</th>\n",
       "      <td>313.061560</td>\n",
       "      <td>1.031134</td>\n",
       "      <td>8478.936317</td>\n",
       "      <td>11306</td>\n",
       "    </tr>\n",
       "    <tr>\n",
       "      <th>8</th>\n",
       "      <td>243.668575</td>\n",
       "      <td>1.041341</td>\n",
       "      <td>10514.923603</td>\n",
       "      <td>7160</td>\n",
       "    </tr>\n",
       "    <tr>\n",
       "      <th>9</th>\n",
       "      <td>157.504038</td>\n",
       "      <td>1.060707</td>\n",
       "      <td>13459.544138</td>\n",
       "      <td>3591</td>\n",
       "    </tr>\n",
       "    <tr>\n",
       "      <th>10</th>\n",
       "      <td>221.187500</td>\n",
       "      <td>3.500000</td>\n",
       "      <td>15887.375000</td>\n",
       "      <td>16</td>\n",
       "    </tr>\n",
       "  </tbody>\n",
       "</table>\n",
       "</div>"
      ],
      "text/plain": [
       "               R_rank    F_rank        M_rank       \n",
       "                 mean      mean          mean  count\n",
       "RFM_Score                                           \n",
       "3          546.845775  1.001914   1499.747334   3657\n",
       "4          491.605437  1.005353   2881.544725   7099\n",
       "5          438.664890  1.009304   4561.869118  11071\n",
       "6          363.645288  1.020561   6612.598660  15077\n",
       "7          313.061560  1.031134   8478.936317  11306\n",
       "8          243.668575  1.041341  10514.923603   7160\n",
       "9          157.504038  1.060707  13459.544138   3591\n",
       "10         221.187500  3.500000  15887.375000     16"
      ]
     },
     "execution_count": 35,
     "metadata": {},
     "output_type": "execute_result"
    }
   ],
   "source": [
    "dk.groupby('RFM_Score').agg({\n",
    "    'R_rank': 'mean',\n",
    "    'F_rank': 'mean',\n",
    "    'M_rank': ['mean', 'count']\n",
    "})"
   ]
  },
  {
   "cell_type": "code",
   "execution_count": 36,
   "id": "5acdad91",
   "metadata": {
    "ExecuteTime": {
     "end_time": "2023-05-12T13:27:46.150545Z",
     "start_time": "2023-05-12T13:27:46.076192Z"
    },
    "executionInfo": {
     "elapsed": 33,
     "status": "ok",
     "timestamp": 1683876976819,
     "user": {
      "displayName": "Muhammad Rafi",
      "userId": "02077341653276340637"
     },
     "user_tz": -420
    },
    "id": "5acdad91"
   },
   "outputs": [],
   "source": [
    "def segment_me(dk):\n",
    "    if dk['RFM_Score'] >= 8:\n",
    "        return 'Best'\n",
    "    elif (dk['RFM_Score'] >= 6) and (dk['RFM_Score'] < 8):\n",
    "        return 'Good'\n",
    "    elif (dk['RFM_Score'] >= 4) and (dk['RFM_Score'] < 6):\n",
    "        return 'Potential Lost'\n",
    "    else:\n",
    "        return 'Lost'"
   ]
  },
  {
   "cell_type": "code",
   "execution_count": 37,
   "id": "40e5f76c",
   "metadata": {
    "ExecuteTime": {
     "end_time": "2023-05-12T13:27:47.140437Z",
     "start_time": "2023-05-12T13:27:46.152486Z"
    },
    "colab": {
     "base_uri": "https://localhost:8080/",
     "height": 238
    },
    "executionInfo": {
     "elapsed": 1068,
     "status": "ok",
     "timestamp": 1683876977855,
     "user": {
      "displayName": "Muhammad Rafi",
      "userId": "02077341653276340637"
     },
     "user_tz": -420
    },
    "id": "40e5f76c",
    "outputId": "5243baa0-06d6-4853-b69b-edbdb94fd973"
   },
   "outputs": [
    {
     "data": {
      "text/html": [
       "<div>\n",
       "<style scoped>\n",
       "    .dataframe tbody tr th:only-of-type {\n",
       "        vertical-align: middle;\n",
       "    }\n",
       "\n",
       "    .dataframe tbody tr th {\n",
       "        vertical-align: top;\n",
       "    }\n",
       "\n",
       "    .dataframe thead tr th {\n",
       "        text-align: left;\n",
       "    }\n",
       "\n",
       "    .dataframe thead tr:last-of-type th {\n",
       "        text-align: right;\n",
       "    }\n",
       "</style>\n",
       "<table border=\"1\" class=\"dataframe\">\n",
       "  <thead>\n",
       "    <tr>\n",
       "      <th></th>\n",
       "      <th>R_rank</th>\n",
       "      <th>F_rank</th>\n",
       "      <th colspan=\"2\" halign=\"left\">M_rank</th>\n",
       "    </tr>\n",
       "    <tr>\n",
       "      <th></th>\n",
       "      <th>mean</th>\n",
       "      <th>mean</th>\n",
       "      <th>mean</th>\n",
       "      <th>count</th>\n",
       "    </tr>\n",
       "    <tr>\n",
       "      <th>Segment</th>\n",
       "      <th></th>\n",
       "      <th></th>\n",
       "      <th></th>\n",
       "      <th></th>\n",
       "    </tr>\n",
       "  </thead>\n",
       "  <tbody>\n",
       "    <tr>\n",
       "      <th>Best</th>\n",
       "      <td>214.9</td>\n",
       "      <td>1.1</td>\n",
       "      <td>11505.0</td>\n",
       "      <td>10767</td>\n",
       "    </tr>\n",
       "    <tr>\n",
       "      <th>Good</th>\n",
       "      <td>342.0</td>\n",
       "      <td>1.0</td>\n",
       "      <td>7412.4</td>\n",
       "      <td>26383</td>\n",
       "    </tr>\n",
       "    <tr>\n",
       "      <th>Lost</th>\n",
       "      <td>546.8</td>\n",
       "      <td>1.0</td>\n",
       "      <td>1499.7</td>\n",
       "      <td>3657</td>\n",
       "    </tr>\n",
       "    <tr>\n",
       "      <th>Potential Lost</th>\n",
       "      <td>459.3</td>\n",
       "      <td>1.0</td>\n",
       "      <td>3905.4</td>\n",
       "      <td>18170</td>\n",
       "    </tr>\n",
       "  </tbody>\n",
       "</table>\n",
       "</div>"
      ],
      "text/plain": [
       "               R_rank F_rank   M_rank       \n",
       "                 mean   mean     mean  count\n",
       "Segment                                     \n",
       "Best            214.9    1.1  11505.0  10767\n",
       "Good            342.0    1.0   7412.4  26383\n",
       "Lost            546.8    1.0   1499.7   3657\n",
       "Potential Lost  459.3    1.0   3905.4  18170"
      ]
     },
     "execution_count": 37,
     "metadata": {},
     "output_type": "execute_result"
    }
   ],
   "source": [
    "dk['Segment'] = dk.apply(segment_me, axis=1)\n",
    "dk.groupby('Segment').agg({\n",
    "    'R_rank': 'mean',\n",
    "    'F_rank': 'mean',\n",
    "    'M_rank': ['mean', 'count']\n",
    "}).round(1)"
   ]
  },
  {
   "cell_type": "code",
   "execution_count": 38,
   "id": "49cef655",
   "metadata": {
    "ExecuteTime": {
     "end_time": "2023-05-12T13:27:47.172362Z",
     "start_time": "2023-05-12T13:27:47.144400Z"
    },
    "colab": {
     "base_uri": "https://localhost:8080/",
     "height": 206
    },
    "executionInfo": {
     "elapsed": 23,
     "status": "ok",
     "timestamp": 1683876977859,
     "user": {
      "displayName": "Muhammad Rafi",
      "userId": "02077341653276340637"
     },
     "user_tz": -420
    },
    "id": "49cef655",
    "outputId": "c90d9377-76f9-4408-a324-598c29227ba3",
    "scrolled": false
   },
   "outputs": [
    {
     "data": {
      "text/html": [
       "<div>\n",
       "<style scoped>\n",
       "    .dataframe tbody tr th:only-of-type {\n",
       "        vertical-align: middle;\n",
       "    }\n",
       "\n",
       "    .dataframe tbody tr th {\n",
       "        vertical-align: top;\n",
       "    }\n",
       "\n",
       "    .dataframe thead th {\n",
       "        text-align: right;\n",
       "    }\n",
       "</style>\n",
       "<table border=\"1\" class=\"dataframe\">\n",
       "  <thead>\n",
       "    <tr style=\"text-align: right;\">\n",
       "      <th></th>\n",
       "      <th>customer_unique_id</th>\n",
       "      <th>R_rank</th>\n",
       "      <th>F_rank</th>\n",
       "      <th>M_rank</th>\n",
       "      <th>R</th>\n",
       "      <th>F</th>\n",
       "      <th>M</th>\n",
       "      <th>RFM_Segment</th>\n",
       "      <th>RFM_Score</th>\n",
       "      <th>Segment</th>\n",
       "    </tr>\n",
       "  </thead>\n",
       "  <tbody>\n",
       "    <tr>\n",
       "      <th>0</th>\n",
       "      <td>0000366f3b9a7992bf8c76cfdf3221e2</td>\n",
       "      <td>488.0</td>\n",
       "      <td>1.0</td>\n",
       "      <td>8607.0</td>\n",
       "      <td>2</td>\n",
       "      <td>1</td>\n",
       "      <td>3</td>\n",
       "      <td>213</td>\n",
       "      <td>6</td>\n",
       "      <td>Good</td>\n",
       "    </tr>\n",
       "    <tr>\n",
       "      <th>1</th>\n",
       "      <td>0000f46a3911fa3c0805444483337064</td>\n",
       "      <td>65.0</td>\n",
       "      <td>1.0</td>\n",
       "      <td>4797.0</td>\n",
       "      <td>4</td>\n",
       "      <td>1</td>\n",
       "      <td>2</td>\n",
       "      <td>412</td>\n",
       "      <td>7</td>\n",
       "      <td>Good</td>\n",
       "    </tr>\n",
       "    <tr>\n",
       "      <th>2</th>\n",
       "      <td>0004bd2a26a76fe21f786e4fbd80607f</td>\n",
       "      <td>456.0</td>\n",
       "      <td>1.0</td>\n",
       "      <td>10199.0</td>\n",
       "      <td>2</td>\n",
       "      <td>1</td>\n",
       "      <td>4</td>\n",
       "      <td>214</td>\n",
       "      <td>7</td>\n",
       "      <td>Good</td>\n",
       "    </tr>\n",
       "    <tr>\n",
       "      <th>3</th>\n",
       "      <td>0005e1862207bf6ccc02e4228effd9a0</td>\n",
       "      <td>59.0</td>\n",
       "      <td>1.0</td>\n",
       "      <td>9150.0</td>\n",
       "      <td>4</td>\n",
       "      <td>1</td>\n",
       "      <td>3</td>\n",
       "      <td>413</td>\n",
       "      <td>8</td>\n",
       "      <td>Best</td>\n",
       "    </tr>\n",
       "    <tr>\n",
       "      <th>4</th>\n",
       "      <td>0006fdc98a402fceb4eb0ee528f6a8d4</td>\n",
       "      <td>195.0</td>\n",
       "      <td>1.0</td>\n",
       "      <td>532.0</td>\n",
       "      <td>4</td>\n",
       "      <td>1</td>\n",
       "      <td>1</td>\n",
       "      <td>411</td>\n",
       "      <td>6</td>\n",
       "      <td>Good</td>\n",
       "    </tr>\n",
       "  </tbody>\n",
       "</table>\n",
       "</div>"
      ],
      "text/plain": [
       "                 customer_unique_id  R_rank  F_rank   M_rank  R  F  M  \\\n",
       "0  0000366f3b9a7992bf8c76cfdf3221e2   488.0     1.0   8607.0  2  1  3   \n",
       "1  0000f46a3911fa3c0805444483337064    65.0     1.0   4797.0  4  1  2   \n",
       "2  0004bd2a26a76fe21f786e4fbd80607f   456.0     1.0  10199.0  2  1  4   \n",
       "3  0005e1862207bf6ccc02e4228effd9a0    59.0     1.0   9150.0  4  1  3   \n",
       "4  0006fdc98a402fceb4eb0ee528f6a8d4   195.0     1.0    532.0  4  1  1   \n",
       "\n",
       "  RFM_Segment  RFM_Score Segment  \n",
       "0         213          6    Good  \n",
       "1         412          7    Good  \n",
       "2         214          7    Good  \n",
       "3         413          8    Best  \n",
       "4         411          6    Good  "
      ]
     },
     "execution_count": 38,
     "metadata": {},
     "output_type": "execute_result"
    }
   ],
   "source": [
    "dk.head()"
   ]
  },
  {
   "attachments": {},
   "cell_type": "markdown",
   "id": "bdd8a33d",
   "metadata": {
    "id": "bdd8a33d"
   },
   "source": [
    "Berdasarkan hasil yang telah kita lakukakn segmentasi secara manual terlihat cukup masuk akal. Namun kenyataanya dalam menentukan segmentasi customer memerlukan trial error dalam menentukan cut-off yang tepat untuk tiap segmen. Sehingga dengan demikian kita akan menggunakan K-Means clustering untuk membuat segmentasi dengan berdsarakan kemiripan customer.\n",
    "\n",
    "Pengunaan K-Means clustering ataupun model lainnya akan membantu untuk membuat segmentasi yang lebih akurat dan dapat meningkatkan pemahaman tentang perilaku pelanggan sehingga dengan demikian penentuan nilai cut-off pada masing masing cluster tidak dilakukan secara subjektif yang dapat menyebabkan pengelompokkan kurang akurat dan menghasilkan kesimpulan yang keliru terhadap perilaku pelanggan. Jadi dapat disimpulkan bahwa penggunaan model atau algoritma seperti K-Means dapat berguna untuk melakukan segmentasi secara objektif dan lebih akurat."
   ]
  },
  {
   "cell_type": "code",
   "execution_count": 39,
   "id": "5e97e8ad",
   "metadata": {
    "ExecuteTime": {
     "end_time": "2023-05-12T13:27:48.493240Z",
     "start_time": "2023-05-12T13:27:47.175294Z"
    },
    "executionInfo": {
     "elapsed": 1418,
     "status": "ok",
     "timestamp": 1683876979260,
     "user": {
      "displayName": "Muhammad Rafi",
      "userId": "02077341653276340637"
     },
     "user_tz": -420
    },
    "id": "5e97e8ad"
   },
   "outputs": [],
   "source": [
    "# df.to_csv('3. feature_engineering.csv', index=False)\n",
    "# rfm_df.to_csv('3. rfm_df.csv', index=False)"
   ]
  },
  {
   "attachments": {},
   "cell_type": "markdown",
   "id": "7ee3a9f8",
   "metadata": {
    "id": "7ee3a9f8"
   },
   "source": [
    "**Lanjut Ke Part Selanjutnya: 4. Modeling**"
   ]
  }
 ],
 "metadata": {
  "colab": {
   "provenance": []
  },
  "kernelspec": {
   "display_name": "Python 3 (ipykernel)",
   "language": "python",
   "name": "python3"
  },
  "language_info": {
   "codemirror_mode": {
    "name": "ipython",
    "version": 3
   },
   "file_extension": ".py",
   "mimetype": "text/x-python",
   "name": "python",
   "nbconvert_exporter": "python",
   "pygments_lexer": "ipython3",
   "version": "3.9.16"
  },
  "varInspector": {
   "cols": {
    "lenName": 16,
    "lenType": 16,
    "lenVar": 40
   },
   "kernels_config": {
    "python": {
     "delete_cmd_postfix": "",
     "delete_cmd_prefix": "del ",
     "library": "var_list.py",
     "varRefreshCmd": "print(var_dic_list())"
    },
    "r": {
     "delete_cmd_postfix": ") ",
     "delete_cmd_prefix": "rm(",
     "library": "var_list.r",
     "varRefreshCmd": "cat(var_dic_list()) "
    }
   },
   "types_to_exclude": [
    "module",
    "function",
    "builtin_function_or_method",
    "instance",
    "_Feature"
   ],
   "window_display": false
  }
 },
 "nbformat": 4,
 "nbformat_minor": 5
}
